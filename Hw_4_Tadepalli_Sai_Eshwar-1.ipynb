{
 "cells": [
  {
   "cell_type": "markdown",
   "id": "efcd91ef",
   "metadata": {},
   "source": [
    "# Homework Exercise 4 : Parallel and Distributed computing with Dask"
   ]
  },
  {
   "cell_type": "markdown",
   "id": "3941329a",
   "metadata": {},
   "source": [
    "# Task 0\n",
    "## Exercise 4 completed by Sai Eshwar Tadepalli"
   ]
  },
  {
   "cell_type": "markdown",
   "id": "5f17acd2",
   "metadata": {},
   "source": [
    "# Section D - DASK DATAFRAMES IN CODE – NYC AREA FLIGHTS DATA\n",
    "## Task 1 - Install and Imports"
   ]
  },
  {
   "cell_type": "code",
   "execution_count": 1,
   "id": "53b48a49",
   "metadata": {},
   "outputs": [],
   "source": [
    "import os\n",
    "import dask\n",
    "from dask.distributed import Client\n",
    "import dask.dataframe as dd\n",
    "import pandas as pd\n",
    "import glob"
   ]
  },
  {
   "cell_type": "markdown",
   "id": "b2686a6d",
   "metadata": {},
   "source": [
    "## Task 2 - Get the data and read it in "
   ]
  },
  {
   "cell_type": "code",
   "execution_count": 2,
   "id": "7917ea31",
   "metadata": {},
   "outputs": [],
   "source": [
    "filename = os.path.join('nycflights','*.csv')\n",
    "filename\n",
    "ddf = dd.read_csv(filename)\n",
    "pdf = pd.concat(map(pd.read_csv, glob.glob(filename)))"
   ]
  },
  {
   "cell_type": "markdown",
   "id": "9232bc26",
   "metadata": {},
   "source": [
    "## Task 3 - Lazy operations"
   ]
  },
  {
   "cell_type": "code",
   "execution_count": 3,
   "id": "9ab3f14b",
   "metadata": {},
   "outputs": [
    {
     "data": {
      "text/html": [
       "<div><strong>Dask DataFrame Structure:</strong></div>\n",
       "<div>\n",
       "<style scoped>\n",
       "    .dataframe tbody tr th:only-of-type {\n",
       "        vertical-align: middle;\n",
       "    }\n",
       "\n",
       "    .dataframe tbody tr th {\n",
       "        vertical-align: top;\n",
       "    }\n",
       "\n",
       "    .dataframe thead th {\n",
       "        text-align: right;\n",
       "    }\n",
       "</style>\n",
       "<table border=\"1\" class=\"dataframe\">\n",
       "  <thead>\n",
       "    <tr style=\"text-align: right;\">\n",
       "      <th></th>\n",
       "      <th>Year</th>\n",
       "      <th>Month</th>\n",
       "      <th>DayofMonth</th>\n",
       "      <th>DayOfWeek</th>\n",
       "      <th>DepTime</th>\n",
       "      <th>CRSDepTime</th>\n",
       "      <th>ArrTime</th>\n",
       "      <th>CRSArrTime</th>\n",
       "      <th>UniqueCarrier</th>\n",
       "      <th>FlightNum</th>\n",
       "      <th>TailNum</th>\n",
       "      <th>ActualElapsedTime</th>\n",
       "      <th>CRSElapsedTime</th>\n",
       "      <th>AirTime</th>\n",
       "      <th>ArrDelay</th>\n",
       "      <th>DepDelay</th>\n",
       "      <th>Origin</th>\n",
       "      <th>Dest</th>\n",
       "      <th>Distance</th>\n",
       "      <th>TaxiIn</th>\n",
       "      <th>TaxiOut</th>\n",
       "      <th>Cancelled</th>\n",
       "      <th>Diverted</th>\n",
       "    </tr>\n",
       "    <tr>\n",
       "      <th>npartitions=10</th>\n",
       "      <th></th>\n",
       "      <th></th>\n",
       "      <th></th>\n",
       "      <th></th>\n",
       "      <th></th>\n",
       "      <th></th>\n",
       "      <th></th>\n",
       "      <th></th>\n",
       "      <th></th>\n",
       "      <th></th>\n",
       "      <th></th>\n",
       "      <th></th>\n",
       "      <th></th>\n",
       "      <th></th>\n",
       "      <th></th>\n",
       "      <th></th>\n",
       "      <th></th>\n",
       "      <th></th>\n",
       "      <th></th>\n",
       "      <th></th>\n",
       "      <th></th>\n",
       "      <th></th>\n",
       "      <th></th>\n",
       "    </tr>\n",
       "  </thead>\n",
       "  <tbody>\n",
       "    <tr>\n",
       "      <th></th>\n",
       "      <td>int64</td>\n",
       "      <td>int64</td>\n",
       "      <td>int64</td>\n",
       "      <td>int64</td>\n",
       "      <td>float64</td>\n",
       "      <td>int64</td>\n",
       "      <td>float64</td>\n",
       "      <td>int64</td>\n",
       "      <td>object</td>\n",
       "      <td>int64</td>\n",
       "      <td>float64</td>\n",
       "      <td>float64</td>\n",
       "      <td>int64</td>\n",
       "      <td>float64</td>\n",
       "      <td>float64</td>\n",
       "      <td>float64</td>\n",
       "      <td>object</td>\n",
       "      <td>object</td>\n",
       "      <td>float64</td>\n",
       "      <td>float64</td>\n",
       "      <td>float64</td>\n",
       "      <td>int64</td>\n",
       "      <td>int64</td>\n",
       "    </tr>\n",
       "    <tr>\n",
       "      <th></th>\n",
       "      <td>...</td>\n",
       "      <td>...</td>\n",
       "      <td>...</td>\n",
       "      <td>...</td>\n",
       "      <td>...</td>\n",
       "      <td>...</td>\n",
       "      <td>...</td>\n",
       "      <td>...</td>\n",
       "      <td>...</td>\n",
       "      <td>...</td>\n",
       "      <td>...</td>\n",
       "      <td>...</td>\n",
       "      <td>...</td>\n",
       "      <td>...</td>\n",
       "      <td>...</td>\n",
       "      <td>...</td>\n",
       "      <td>...</td>\n",
       "      <td>...</td>\n",
       "      <td>...</td>\n",
       "      <td>...</td>\n",
       "      <td>...</td>\n",
       "      <td>...</td>\n",
       "      <td>...</td>\n",
       "    </tr>\n",
       "    <tr>\n",
       "      <th>...</th>\n",
       "      <td>...</td>\n",
       "      <td>...</td>\n",
       "      <td>...</td>\n",
       "      <td>...</td>\n",
       "      <td>...</td>\n",
       "      <td>...</td>\n",
       "      <td>...</td>\n",
       "      <td>...</td>\n",
       "      <td>...</td>\n",
       "      <td>...</td>\n",
       "      <td>...</td>\n",
       "      <td>...</td>\n",
       "      <td>...</td>\n",
       "      <td>...</td>\n",
       "      <td>...</td>\n",
       "      <td>...</td>\n",
       "      <td>...</td>\n",
       "      <td>...</td>\n",
       "      <td>...</td>\n",
       "      <td>...</td>\n",
       "      <td>...</td>\n",
       "      <td>...</td>\n",
       "      <td>...</td>\n",
       "    </tr>\n",
       "    <tr>\n",
       "      <th></th>\n",
       "      <td>...</td>\n",
       "      <td>...</td>\n",
       "      <td>...</td>\n",
       "      <td>...</td>\n",
       "      <td>...</td>\n",
       "      <td>...</td>\n",
       "      <td>...</td>\n",
       "      <td>...</td>\n",
       "      <td>...</td>\n",
       "      <td>...</td>\n",
       "      <td>...</td>\n",
       "      <td>...</td>\n",
       "      <td>...</td>\n",
       "      <td>...</td>\n",
       "      <td>...</td>\n",
       "      <td>...</td>\n",
       "      <td>...</td>\n",
       "      <td>...</td>\n",
       "      <td>...</td>\n",
       "      <td>...</td>\n",
       "      <td>...</td>\n",
       "      <td>...</td>\n",
       "      <td>...</td>\n",
       "    </tr>\n",
       "    <tr>\n",
       "      <th></th>\n",
       "      <td>...</td>\n",
       "      <td>...</td>\n",
       "      <td>...</td>\n",
       "      <td>...</td>\n",
       "      <td>...</td>\n",
       "      <td>...</td>\n",
       "      <td>...</td>\n",
       "      <td>...</td>\n",
       "      <td>...</td>\n",
       "      <td>...</td>\n",
       "      <td>...</td>\n",
       "      <td>...</td>\n",
       "      <td>...</td>\n",
       "      <td>...</td>\n",
       "      <td>...</td>\n",
       "      <td>...</td>\n",
       "      <td>...</td>\n",
       "      <td>...</td>\n",
       "      <td>...</td>\n",
       "      <td>...</td>\n",
       "      <td>...</td>\n",
       "      <td>...</td>\n",
       "      <td>...</td>\n",
       "    </tr>\n",
       "  </tbody>\n",
       "</table>\n",
       "</div>\n",
       "<div>Dask Name: read-csv, 10 tasks</div>"
      ],
      "text/plain": [
       "Dask DataFrame Structure:\n",
       "                 Year  Month DayofMonth DayOfWeek  DepTime CRSDepTime  ArrTime CRSArrTime UniqueCarrier FlightNum  TailNum ActualElapsedTime CRSElapsedTime  AirTime ArrDelay DepDelay  Origin    Dest Distance   TaxiIn  TaxiOut Cancelled Diverted\n",
       "npartitions=10                                                                                                                                                                                                                                      \n",
       "                int64  int64      int64     int64  float64      int64  float64      int64        object     int64  float64           float64          int64  float64  float64  float64  object  object  float64  float64  float64     int64    int64\n",
       "                  ...    ...        ...       ...      ...        ...      ...        ...           ...       ...      ...               ...            ...      ...      ...      ...     ...     ...      ...      ...      ...       ...      ...\n",
       "...               ...    ...        ...       ...      ...        ...      ...        ...           ...       ...      ...               ...            ...      ...      ...      ...     ...     ...      ...      ...      ...       ...      ...\n",
       "                  ...    ...        ...       ...      ...        ...      ...        ...           ...       ...      ...               ...            ...      ...      ...      ...     ...     ...      ...      ...      ...       ...      ...\n",
       "                  ...    ...        ...       ...      ...        ...      ...        ...           ...       ...      ...               ...            ...      ...      ...      ...     ...     ...      ...      ...      ...       ...      ...\n",
       "Dask Name: read-csv, 10 tasks"
      ]
     },
     "execution_count": 3,
     "metadata": {},
     "output_type": "execute_result"
    }
   ],
   "source": [
    "ddf"
   ]
  },
  {
   "cell_type": "code",
   "execution_count": 4,
   "id": "d539f03d",
   "metadata": {},
   "outputs": [
    {
     "data": {
      "text/html": [
       "<div>\n",
       "<style scoped>\n",
       "    .dataframe tbody tr th:only-of-type {\n",
       "        vertical-align: middle;\n",
       "    }\n",
       "\n",
       "    .dataframe tbody tr th {\n",
       "        vertical-align: top;\n",
       "    }\n",
       "\n",
       "    .dataframe thead th {\n",
       "        text-align: right;\n",
       "    }\n",
       "</style>\n",
       "<table border=\"1\" class=\"dataframe\">\n",
       "  <thead>\n",
       "    <tr style=\"text-align: right;\">\n",
       "      <th></th>\n",
       "      <th>Year</th>\n",
       "      <th>Month</th>\n",
       "      <th>DayofMonth</th>\n",
       "      <th>DayOfWeek</th>\n",
       "      <th>DepTime</th>\n",
       "      <th>CRSDepTime</th>\n",
       "      <th>ArrTime</th>\n",
       "      <th>CRSArrTime</th>\n",
       "      <th>UniqueCarrier</th>\n",
       "      <th>FlightNum</th>\n",
       "      <th>...</th>\n",
       "      <th>AirTime</th>\n",
       "      <th>ArrDelay</th>\n",
       "      <th>DepDelay</th>\n",
       "      <th>Origin</th>\n",
       "      <th>Dest</th>\n",
       "      <th>Distance</th>\n",
       "      <th>TaxiIn</th>\n",
       "      <th>TaxiOut</th>\n",
       "      <th>Cancelled</th>\n",
       "      <th>Diverted</th>\n",
       "    </tr>\n",
       "  </thead>\n",
       "  <tbody>\n",
       "    <tr>\n",
       "      <th>0</th>\n",
       "      <td>1990</td>\n",
       "      <td>1</td>\n",
       "      <td>1</td>\n",
       "      <td>1</td>\n",
       "      <td>1621.0</td>\n",
       "      <td>1540</td>\n",
       "      <td>1747.0</td>\n",
       "      <td>1701</td>\n",
       "      <td>US</td>\n",
       "      <td>33</td>\n",
       "      <td>...</td>\n",
       "      <td>NaN</td>\n",
       "      <td>46.0</td>\n",
       "      <td>41.0</td>\n",
       "      <td>EWR</td>\n",
       "      <td>PIT</td>\n",
       "      <td>319.0</td>\n",
       "      <td>NaN</td>\n",
       "      <td>NaN</td>\n",
       "      <td>0</td>\n",
       "      <td>0</td>\n",
       "    </tr>\n",
       "    <tr>\n",
       "      <th>1</th>\n",
       "      <td>1990</td>\n",
       "      <td>1</td>\n",
       "      <td>2</td>\n",
       "      <td>2</td>\n",
       "      <td>1547.0</td>\n",
       "      <td>1540</td>\n",
       "      <td>1700.0</td>\n",
       "      <td>1701</td>\n",
       "      <td>US</td>\n",
       "      <td>33</td>\n",
       "      <td>...</td>\n",
       "      <td>NaN</td>\n",
       "      <td>-1.0</td>\n",
       "      <td>7.0</td>\n",
       "      <td>EWR</td>\n",
       "      <td>PIT</td>\n",
       "      <td>319.0</td>\n",
       "      <td>NaN</td>\n",
       "      <td>NaN</td>\n",
       "      <td>0</td>\n",
       "      <td>0</td>\n",
       "    </tr>\n",
       "    <tr>\n",
       "      <th>2</th>\n",
       "      <td>1990</td>\n",
       "      <td>1</td>\n",
       "      <td>3</td>\n",
       "      <td>3</td>\n",
       "      <td>1546.0</td>\n",
       "      <td>1540</td>\n",
       "      <td>1710.0</td>\n",
       "      <td>1701</td>\n",
       "      <td>US</td>\n",
       "      <td>33</td>\n",
       "      <td>...</td>\n",
       "      <td>NaN</td>\n",
       "      <td>9.0</td>\n",
       "      <td>6.0</td>\n",
       "      <td>EWR</td>\n",
       "      <td>PIT</td>\n",
       "      <td>319.0</td>\n",
       "      <td>NaN</td>\n",
       "      <td>NaN</td>\n",
       "      <td>0</td>\n",
       "      <td>0</td>\n",
       "    </tr>\n",
       "    <tr>\n",
       "      <th>3</th>\n",
       "      <td>1990</td>\n",
       "      <td>1</td>\n",
       "      <td>4</td>\n",
       "      <td>4</td>\n",
       "      <td>1542.0</td>\n",
       "      <td>1540</td>\n",
       "      <td>1710.0</td>\n",
       "      <td>1701</td>\n",
       "      <td>US</td>\n",
       "      <td>33</td>\n",
       "      <td>...</td>\n",
       "      <td>NaN</td>\n",
       "      <td>9.0</td>\n",
       "      <td>2.0</td>\n",
       "      <td>EWR</td>\n",
       "      <td>PIT</td>\n",
       "      <td>319.0</td>\n",
       "      <td>NaN</td>\n",
       "      <td>NaN</td>\n",
       "      <td>0</td>\n",
       "      <td>0</td>\n",
       "    </tr>\n",
       "    <tr>\n",
       "      <th>4</th>\n",
       "      <td>1990</td>\n",
       "      <td>1</td>\n",
       "      <td>5</td>\n",
       "      <td>5</td>\n",
       "      <td>1549.0</td>\n",
       "      <td>1540</td>\n",
       "      <td>1706.0</td>\n",
       "      <td>1701</td>\n",
       "      <td>US</td>\n",
       "      <td>33</td>\n",
       "      <td>...</td>\n",
       "      <td>NaN</td>\n",
       "      <td>5.0</td>\n",
       "      <td>9.0</td>\n",
       "      <td>EWR</td>\n",
       "      <td>PIT</td>\n",
       "      <td>319.0</td>\n",
       "      <td>NaN</td>\n",
       "      <td>NaN</td>\n",
       "      <td>0</td>\n",
       "      <td>0</td>\n",
       "    </tr>\n",
       "  </tbody>\n",
       "</table>\n",
       "<p>5 rows × 23 columns</p>\n",
       "</div>"
      ],
      "text/plain": [
       "   Year  Month  DayofMonth  DayOfWeek  DepTime  CRSDepTime  ArrTime  \\\n",
       "0  1990      1           1          1   1621.0        1540   1747.0   \n",
       "1  1990      1           2          2   1547.0        1540   1700.0   \n",
       "2  1990      1           3          3   1546.0        1540   1710.0   \n",
       "3  1990      1           4          4   1542.0        1540   1710.0   \n",
       "4  1990      1           5          5   1549.0        1540   1706.0   \n",
       "\n",
       "   CRSArrTime UniqueCarrier  FlightNum  ...  AirTime  ArrDelay  DepDelay  \\\n",
       "0        1701            US         33  ...      NaN      46.0      41.0   \n",
       "1        1701            US         33  ...      NaN      -1.0       7.0   \n",
       "2        1701            US         33  ...      NaN       9.0       6.0   \n",
       "3        1701            US         33  ...      NaN       9.0       2.0   \n",
       "4        1701            US         33  ...      NaN       5.0       9.0   \n",
       "\n",
       "   Origin  Dest  Distance TaxiIn TaxiOut  Cancelled  Diverted  \n",
       "0     EWR   PIT     319.0    NaN     NaN          0         0  \n",
       "1     EWR   PIT     319.0    NaN     NaN          0         0  \n",
       "2     EWR   PIT     319.0    NaN     NaN          0         0  \n",
       "3     EWR   PIT     319.0    NaN     NaN          0         0  \n",
       "4     EWR   PIT     319.0    NaN     NaN          0         0  \n",
       "\n",
       "[5 rows x 23 columns]"
      ]
     },
     "execution_count": 4,
     "metadata": {},
     "output_type": "execute_result"
    }
   ],
   "source": [
    "ddf.head()"
   ]
  },
  {
   "cell_type": "markdown",
   "id": "ca6afb91",
   "metadata": {},
   "source": [
    "## Task 4 - Timing exercise"
   ]
  },
  {
   "cell_type": "code",
   "execution_count": 5,
   "id": "df5f962d",
   "metadata": {},
   "outputs": [
    {
     "name": "stdout",
     "output_type": "stream",
     "text": [
      "3.04 ms ± 187 µs per loop (mean ± std. dev. of 7 runs, 100 loops each)\n"
     ]
    }
   ],
   "source": [
    "%timeit ddf = dd.read_csv(filename)"
   ]
  },
  {
   "cell_type": "code",
   "execution_count": 6,
   "id": "483faca1",
   "metadata": {},
   "outputs": [
    {
     "name": "stdout",
     "output_type": "stream",
     "text": [
      "3.36 s ± 86.7 ms per loop (mean ± std. dev. of 7 runs, 1 loop each)\n"
     ]
    }
   ],
   "source": [
    "%timeit pdf = pd.concat(map(pd.read_csv, glob.glob('nycflights/*.csv')))"
   ]
  },
  {
   "cell_type": "markdown",
   "id": "ae26ea59",
   "metadata": {},
   "source": [
    "## Task 5 - DataFrame attributes"
   ]
  },
  {
   "cell_type": "code",
   "execution_count": 7,
   "id": "6dd0d3ba",
   "metadata": {},
   "outputs": [
    {
     "data": {
      "text/plain": [
       "Index(['Year', 'Month', 'DayofMonth', 'DayOfWeek', 'DepTime', 'CRSDepTime',\n",
       "       'ArrTime', 'CRSArrTime', 'UniqueCarrier', 'FlightNum', 'TailNum',\n",
       "       'ActualElapsedTime', 'CRSElapsedTime', 'AirTime', 'ArrDelay',\n",
       "       'DepDelay', 'Origin', 'Dest', 'Distance', 'TaxiIn', 'TaxiOut',\n",
       "       'Cancelled', 'Diverted'],\n",
       "      dtype='object')"
      ]
     },
     "execution_count": 7,
     "metadata": {},
     "output_type": "execute_result"
    }
   ],
   "source": [
    "ddf.columns"
   ]
  },
  {
   "cell_type": "code",
   "execution_count": 8,
   "id": "74d69319",
   "metadata": {},
   "outputs": [
    {
     "data": {
      "text/plain": [
       "Year                   int64\n",
       "Month                  int64\n",
       "DayofMonth             int64\n",
       "DayOfWeek              int64\n",
       "DepTime              float64\n",
       "CRSDepTime             int64\n",
       "ArrTime              float64\n",
       "CRSArrTime             int64\n",
       "UniqueCarrier         object\n",
       "FlightNum              int64\n",
       "TailNum              float64\n",
       "ActualElapsedTime    float64\n",
       "CRSElapsedTime         int64\n",
       "AirTime              float64\n",
       "ArrDelay             float64\n",
       "DepDelay             float64\n",
       "Origin                object\n",
       "Dest                  object\n",
       "Distance             float64\n",
       "TaxiIn               float64\n",
       "TaxiOut              float64\n",
       "Cancelled              int64\n",
       "Diverted               int64\n",
       "dtype: object"
      ]
     },
     "execution_count": 8,
     "metadata": {},
     "output_type": "execute_result"
    }
   ],
   "source": [
    "ddf.dtypes"
   ]
  },
  {
   "cell_type": "markdown",
   "id": "fb830703",
   "metadata": {},
   "source": [
    "## Task 6 - Read in the data again"
   ]
  },
  {
   "cell_type": "code",
   "execution_count": 9,
   "id": "d1f8a55a",
   "metadata": {},
   "outputs": [],
   "source": [
    "ddf = dd.read_csv(filename,\n",
    "                  parse_dates = {'Date': [0,1,2]},\n",
    "                  dtype = {'CRSElapsedTime': 'float64',\n",
    "                           'TailNum': 'object'})"
   ]
  },
  {
   "cell_type": "code",
   "execution_count": 10,
   "id": "773960e8",
   "metadata": {},
   "outputs": [
    {
     "data": {
      "text/plain": [
       "2611892"
      ]
     },
     "execution_count": 10,
     "metadata": {},
     "output_type": "execute_result"
    }
   ],
   "source": [
    "len(ddf)"
   ]
  },
  {
   "cell_type": "code",
   "execution_count": 11,
   "id": "eeddb793",
   "metadata": {},
   "outputs": [
    {
     "data": {
      "text/html": [
       "<div>\n",
       "<style scoped>\n",
       "    .dataframe tbody tr th:only-of-type {\n",
       "        vertical-align: middle;\n",
       "    }\n",
       "\n",
       "    .dataframe tbody tr th {\n",
       "        vertical-align: top;\n",
       "    }\n",
       "\n",
       "    .dataframe thead th {\n",
       "        text-align: right;\n",
       "    }\n",
       "</style>\n",
       "<table border=\"1\" class=\"dataframe\">\n",
       "  <thead>\n",
       "    <tr style=\"text-align: right;\">\n",
       "      <th></th>\n",
       "      <th>Date</th>\n",
       "      <th>DayOfWeek</th>\n",
       "      <th>DepTime</th>\n",
       "      <th>CRSDepTime</th>\n",
       "      <th>ArrTime</th>\n",
       "      <th>CRSArrTime</th>\n",
       "      <th>UniqueCarrier</th>\n",
       "      <th>FlightNum</th>\n",
       "      <th>TailNum</th>\n",
       "      <th>ActualElapsedTime</th>\n",
       "      <th>...</th>\n",
       "      <th>AirTime</th>\n",
       "      <th>ArrDelay</th>\n",
       "      <th>DepDelay</th>\n",
       "      <th>Origin</th>\n",
       "      <th>Dest</th>\n",
       "      <th>Distance</th>\n",
       "      <th>TaxiIn</th>\n",
       "      <th>TaxiOut</th>\n",
       "      <th>Cancelled</th>\n",
       "      <th>Diverted</th>\n",
       "    </tr>\n",
       "  </thead>\n",
       "  <tbody>\n",
       "    <tr>\n",
       "      <th>269176</th>\n",
       "      <td>1999-12-27</td>\n",
       "      <td>1</td>\n",
       "      <td>1645.0</td>\n",
       "      <td>1645</td>\n",
       "      <td>1830.0</td>\n",
       "      <td>1901</td>\n",
       "      <td>UA</td>\n",
       "      <td>1753</td>\n",
       "      <td>N516UA</td>\n",
       "      <td>225.0</td>\n",
       "      <td>...</td>\n",
       "      <td>205.0</td>\n",
       "      <td>-31.0</td>\n",
       "      <td>0.0</td>\n",
       "      <td>LGA</td>\n",
       "      <td>DEN</td>\n",
       "      <td>1619.0</td>\n",
       "      <td>7.0</td>\n",
       "      <td>13.0</td>\n",
       "      <td>0</td>\n",
       "      <td>0</td>\n",
       "    </tr>\n",
       "    <tr>\n",
       "      <th>269177</th>\n",
       "      <td>1999-12-28</td>\n",
       "      <td>2</td>\n",
       "      <td>1726.0</td>\n",
       "      <td>1645</td>\n",
       "      <td>1928.0</td>\n",
       "      <td>1901</td>\n",
       "      <td>UA</td>\n",
       "      <td>1753</td>\n",
       "      <td>N504UA</td>\n",
       "      <td>242.0</td>\n",
       "      <td>...</td>\n",
       "      <td>214.0</td>\n",
       "      <td>27.0</td>\n",
       "      <td>41.0</td>\n",
       "      <td>LGA</td>\n",
       "      <td>DEN</td>\n",
       "      <td>1619.0</td>\n",
       "      <td>5.0</td>\n",
       "      <td>23.0</td>\n",
       "      <td>0</td>\n",
       "      <td>0</td>\n",
       "    </tr>\n",
       "    <tr>\n",
       "      <th>269178</th>\n",
       "      <td>1999-12-29</td>\n",
       "      <td>3</td>\n",
       "      <td>1646.0</td>\n",
       "      <td>1645</td>\n",
       "      <td>1846.0</td>\n",
       "      <td>1901</td>\n",
       "      <td>UA</td>\n",
       "      <td>1753</td>\n",
       "      <td>N592UA</td>\n",
       "      <td>240.0</td>\n",
       "      <td>...</td>\n",
       "      <td>220.0</td>\n",
       "      <td>-15.0</td>\n",
       "      <td>1.0</td>\n",
       "      <td>LGA</td>\n",
       "      <td>DEN</td>\n",
       "      <td>1619.0</td>\n",
       "      <td>5.0</td>\n",
       "      <td>15.0</td>\n",
       "      <td>0</td>\n",
       "      <td>0</td>\n",
       "    </tr>\n",
       "    <tr>\n",
       "      <th>269179</th>\n",
       "      <td>1999-12-30</td>\n",
       "      <td>4</td>\n",
       "      <td>1651.0</td>\n",
       "      <td>1645</td>\n",
       "      <td>1908.0</td>\n",
       "      <td>1901</td>\n",
       "      <td>UA</td>\n",
       "      <td>1753</td>\n",
       "      <td>N575UA</td>\n",
       "      <td>257.0</td>\n",
       "      <td>...</td>\n",
       "      <td>233.0</td>\n",
       "      <td>7.0</td>\n",
       "      <td>6.0</td>\n",
       "      <td>LGA</td>\n",
       "      <td>DEN</td>\n",
       "      <td>1619.0</td>\n",
       "      <td>5.0</td>\n",
       "      <td>19.0</td>\n",
       "      <td>0</td>\n",
       "      <td>0</td>\n",
       "    </tr>\n",
       "    <tr>\n",
       "      <th>269180</th>\n",
       "      <td>1999-12-31</td>\n",
       "      <td>5</td>\n",
       "      <td>1642.0</td>\n",
       "      <td>1645</td>\n",
       "      <td>1851.0</td>\n",
       "      <td>1901</td>\n",
       "      <td>UA</td>\n",
       "      <td>1753</td>\n",
       "      <td>N539UA</td>\n",
       "      <td>249.0</td>\n",
       "      <td>...</td>\n",
       "      <td>232.0</td>\n",
       "      <td>-10.0</td>\n",
       "      <td>-3.0</td>\n",
       "      <td>LGA</td>\n",
       "      <td>DEN</td>\n",
       "      <td>1619.0</td>\n",
       "      <td>6.0</td>\n",
       "      <td>11.0</td>\n",
       "      <td>0</td>\n",
       "      <td>0</td>\n",
       "    </tr>\n",
       "  </tbody>\n",
       "</table>\n",
       "<p>5 rows × 21 columns</p>\n",
       "</div>"
      ],
      "text/plain": [
       "             Date  DayOfWeek  DepTime  CRSDepTime  ArrTime  CRSArrTime  \\\n",
       "269176 1999-12-27          1   1645.0        1645   1830.0        1901   \n",
       "269177 1999-12-28          2   1726.0        1645   1928.0        1901   \n",
       "269178 1999-12-29          3   1646.0        1645   1846.0        1901   \n",
       "269179 1999-12-30          4   1651.0        1645   1908.0        1901   \n",
       "269180 1999-12-31          5   1642.0        1645   1851.0        1901   \n",
       "\n",
       "       UniqueCarrier  FlightNum TailNum  ActualElapsedTime  ...  AirTime  \\\n",
       "269176            UA       1753  N516UA              225.0  ...    205.0   \n",
       "269177            UA       1753  N504UA              242.0  ...    214.0   \n",
       "269178            UA       1753  N592UA              240.0  ...    220.0   \n",
       "269179            UA       1753  N575UA              257.0  ...    233.0   \n",
       "269180            UA       1753  N539UA              249.0  ...    232.0   \n",
       "\n",
       "        ArrDelay  DepDelay  Origin Dest Distance  TaxiIn  TaxiOut  Cancelled  \\\n",
       "269176     -31.0       0.0     LGA  DEN   1619.0     7.0     13.0          0   \n",
       "269177      27.0      41.0     LGA  DEN   1619.0     5.0     23.0          0   \n",
       "269178     -15.0       1.0     LGA  DEN   1619.0     5.0     15.0          0   \n",
       "269179       7.0       6.0     LGA  DEN   1619.0     5.0     19.0          0   \n",
       "269180     -10.0      -3.0     LGA  DEN   1619.0     6.0     11.0          0   \n",
       "\n",
       "        Diverted  \n",
       "269176         0  \n",
       "269177         0  \n",
       "269178         0  \n",
       "269179         0  \n",
       "269180         0  \n",
       "\n",
       "[5 rows x 21 columns]"
      ]
     },
     "execution_count": 11,
     "metadata": {},
     "output_type": "execute_result"
    }
   ],
   "source": [
    "ddf.tail()"
   ]
  },
  {
   "cell_type": "code",
   "execution_count": 12,
   "id": "583c581b",
   "metadata": {},
   "outputs": [
    {
     "data": {
      "text/html": [
       "<div>\n",
       "<style scoped>\n",
       "    .dataframe tbody tr th:only-of-type {\n",
       "        vertical-align: middle;\n",
       "    }\n",
       "\n",
       "    .dataframe tbody tr th {\n",
       "        vertical-align: top;\n",
       "    }\n",
       "\n",
       "    .dataframe thead th {\n",
       "        text-align: right;\n",
       "    }\n",
       "</style>\n",
       "<table border=\"1\" class=\"dataframe\">\n",
       "  <thead>\n",
       "    <tr style=\"text-align: right;\">\n",
       "      <th></th>\n",
       "      <th>CRSElapsedTime</th>\n",
       "      <th>TailNum</th>\n",
       "    </tr>\n",
       "  </thead>\n",
       "  <tbody>\n",
       "    <tr>\n",
       "      <th>60099</th>\n",
       "      <td>157.0</td>\n",
       "      <td>NaN</td>\n",
       "    </tr>\n",
       "    <tr>\n",
       "      <th>23700</th>\n",
       "      <td>58.0</td>\n",
       "      <td>NaN</td>\n",
       "    </tr>\n",
       "    <tr>\n",
       "      <th>59016</th>\n",
       "      <td>230.0</td>\n",
       "      <td>NaN</td>\n",
       "    </tr>\n",
       "    <tr>\n",
       "      <th>209306</th>\n",
       "      <td>125.0</td>\n",
       "      <td>NaN</td>\n",
       "    </tr>\n",
       "    <tr>\n",
       "      <th>181851</th>\n",
       "      <td>74.0</td>\n",
       "      <td>NaN</td>\n",
       "    </tr>\n",
       "    <tr>\n",
       "      <th>...</th>\n",
       "      <td>...</td>\n",
       "      <td>...</td>\n",
       "    </tr>\n",
       "    <tr>\n",
       "      <th>196682</th>\n",
       "      <td>160.0</td>\n",
       "      <td>N16647</td>\n",
       "    </tr>\n",
       "    <tr>\n",
       "      <th>169424</th>\n",
       "      <td>103.0</td>\n",
       "      <td>N926VJ</td>\n",
       "    </tr>\n",
       "    <tr>\n",
       "      <th>138160</th>\n",
       "      <td>166.0</td>\n",
       "      <td>N619DL</td>\n",
       "    </tr>\n",
       "    <tr>\n",
       "      <th>213820</th>\n",
       "      <td>114.0</td>\n",
       "      <td>N311US</td>\n",
       "    </tr>\n",
       "    <tr>\n",
       "      <th>206806</th>\n",
       "      <td>158.0</td>\n",
       "      <td>N664DN</td>\n",
       "    </tr>\n",
       "  </tbody>\n",
       "</table>\n",
       "<p>2613 rows × 2 columns</p>\n",
       "</div>"
      ],
      "text/plain": [
       "        CRSElapsedTime TailNum\n",
       "60099            157.0     NaN\n",
       "23700             58.0     NaN\n",
       "59016            230.0     NaN\n",
       "209306           125.0     NaN\n",
       "181851            74.0     NaN\n",
       "...                ...     ...\n",
       "196682           160.0  N16647\n",
       "169424           103.0  N926VJ\n",
       "138160           166.0  N619DL\n",
       "213820           114.0  N311US\n",
       "206806           158.0  N664DN\n",
       "\n",
       "[2613 rows x 2 columns]"
      ]
     },
     "execution_count": 12,
     "metadata": {},
     "output_type": "execute_result"
    }
   ],
   "source": [
    "ddf[['CRSElapsedTime','TailNum']].sample(frac=0.001).compute()"
   ]
  },
  {
   "cell_type": "markdown",
   "id": "5746a20b",
   "metadata": {},
   "source": [
    "## Task 7 - Obtaining a Dask Series and indexing Dask DataFrames"
   ]
  },
  {
   "cell_type": "code",
   "execution_count": 13,
   "id": "c04a248b",
   "metadata": {},
   "outputs": [
    {
     "data": {
      "text/plain": [
       "0            NaN\n",
       "1            NaN\n",
       "2            NaN\n",
       "3            NaN\n",
       "4            NaN\n",
       "           ...  \n",
       "269176    N516UA\n",
       "269177    N504UA\n",
       "269178    N592UA\n",
       "269179    N575UA\n",
       "269180    N539UA\n",
       "Name: TailNum, Length: 2611892, dtype: object"
      ]
     },
     "execution_count": 13,
     "metadata": {},
     "output_type": "execute_result"
    }
   ],
   "source": [
    "ddf['TailNum'].compute()"
   ]
  },
  {
   "cell_type": "code",
   "execution_count": 14,
   "id": "6138a7cb",
   "metadata": {},
   "outputs": [
    {
     "data": {
      "text/html": [
       "<div>\n",
       "<style scoped>\n",
       "    .dataframe tbody tr th:only-of-type {\n",
       "        vertical-align: middle;\n",
       "    }\n",
       "\n",
       "    .dataframe tbody tr th {\n",
       "        vertical-align: top;\n",
       "    }\n",
       "\n",
       "    .dataframe thead th {\n",
       "        text-align: right;\n",
       "    }\n",
       "</style>\n",
       "<table border=\"1\" class=\"dataframe\">\n",
       "  <thead>\n",
       "    <tr style=\"text-align: right;\">\n",
       "      <th></th>\n",
       "      <th>Date</th>\n",
       "      <th>DayOfWeek</th>\n",
       "      <th>DepTime</th>\n",
       "      <th>CRSDepTime</th>\n",
       "      <th>ArrTime</th>\n",
       "      <th>CRSArrTime</th>\n",
       "      <th>UniqueCarrier</th>\n",
       "      <th>FlightNum</th>\n",
       "      <th>TailNum</th>\n",
       "      <th>ActualElapsedTime</th>\n",
       "      <th>...</th>\n",
       "      <th>AirTime</th>\n",
       "      <th>ArrDelay</th>\n",
       "      <th>DepDelay</th>\n",
       "      <th>Origin</th>\n",
       "      <th>Dest</th>\n",
       "      <th>Distance</th>\n",
       "      <th>TaxiIn</th>\n",
       "      <th>TaxiOut</th>\n",
       "      <th>Cancelled</th>\n",
       "      <th>Diverted</th>\n",
       "    </tr>\n",
       "  </thead>\n",
       "  <tbody>\n",
       "    <tr>\n",
       "      <th>88</th>\n",
       "      <td>1990-01-01</td>\n",
       "      <td>1</td>\n",
       "      <td>1205.0</td>\n",
       "      <td>1110</td>\n",
       "      <td>1343.0</td>\n",
       "      <td>1243</td>\n",
       "      <td>US</td>\n",
       "      <td>49</td>\n",
       "      <td>NaN</td>\n",
       "      <td>98.0</td>\n",
       "      <td>...</td>\n",
       "      <td>NaN</td>\n",
       "      <td>60.0</td>\n",
       "      <td>55.0</td>\n",
       "      <td>LGA</td>\n",
       "      <td>CLE</td>\n",
       "      <td>418.0</td>\n",
       "      <td>NaN</td>\n",
       "      <td>NaN</td>\n",
       "      <td>0</td>\n",
       "      <td>0</td>\n",
       "    </tr>\n",
       "    <tr>\n",
       "      <th>89</th>\n",
       "      <td>1990-01-02</td>\n",
       "      <td>2</td>\n",
       "      <td>1158.0</td>\n",
       "      <td>1110</td>\n",
       "      <td>1327.0</td>\n",
       "      <td>1243</td>\n",
       "      <td>US</td>\n",
       "      <td>49</td>\n",
       "      <td>NaN</td>\n",
       "      <td>89.0</td>\n",
       "      <td>...</td>\n",
       "      <td>NaN</td>\n",
       "      <td>44.0</td>\n",
       "      <td>48.0</td>\n",
       "      <td>LGA</td>\n",
       "      <td>CLE</td>\n",
       "      <td>418.0</td>\n",
       "      <td>NaN</td>\n",
       "      <td>NaN</td>\n",
       "      <td>0</td>\n",
       "      <td>0</td>\n",
       "    </tr>\n",
       "    <tr>\n",
       "      <th>90</th>\n",
       "      <td>1990-01-03</td>\n",
       "      <td>3</td>\n",
       "      <td>1202.0</td>\n",
       "      <td>1110</td>\n",
       "      <td>1324.0</td>\n",
       "      <td>1243</td>\n",
       "      <td>US</td>\n",
       "      <td>49</td>\n",
       "      <td>NaN</td>\n",
       "      <td>82.0</td>\n",
       "      <td>...</td>\n",
       "      <td>NaN</td>\n",
       "      <td>41.0</td>\n",
       "      <td>52.0</td>\n",
       "      <td>LGA</td>\n",
       "      <td>CLE</td>\n",
       "      <td>418.0</td>\n",
       "      <td>NaN</td>\n",
       "      <td>NaN</td>\n",
       "      <td>0</td>\n",
       "      <td>0</td>\n",
       "    </tr>\n",
       "    <tr>\n",
       "      <th>91</th>\n",
       "      <td>1990-01-06</td>\n",
       "      <td>6</td>\n",
       "      <td>1126.0</td>\n",
       "      <td>1110</td>\n",
       "      <td>1322.0</td>\n",
       "      <td>1243</td>\n",
       "      <td>US</td>\n",
       "      <td>49</td>\n",
       "      <td>NaN</td>\n",
       "      <td>116.0</td>\n",
       "      <td>...</td>\n",
       "      <td>NaN</td>\n",
       "      <td>39.0</td>\n",
       "      <td>16.0</td>\n",
       "      <td>LGA</td>\n",
       "      <td>CLE</td>\n",
       "      <td>418.0</td>\n",
       "      <td>NaN</td>\n",
       "      <td>NaN</td>\n",
       "      <td>0</td>\n",
       "      <td>0</td>\n",
       "    </tr>\n",
       "    <tr>\n",
       "      <th>92</th>\n",
       "      <td>1990-01-07</td>\n",
       "      <td>7</td>\n",
       "      <td>1114.0</td>\n",
       "      <td>1110</td>\n",
       "      <td>1236.0</td>\n",
       "      <td>1243</td>\n",
       "      <td>US</td>\n",
       "      <td>49</td>\n",
       "      <td>NaN</td>\n",
       "      <td>82.0</td>\n",
       "      <td>...</td>\n",
       "      <td>NaN</td>\n",
       "      <td>-7.0</td>\n",
       "      <td>4.0</td>\n",
       "      <td>LGA</td>\n",
       "      <td>CLE</td>\n",
       "      <td>418.0</td>\n",
       "      <td>NaN</td>\n",
       "      <td>NaN</td>\n",
       "      <td>0</td>\n",
       "      <td>0</td>\n",
       "    </tr>\n",
       "    <tr>\n",
       "      <th>...</th>\n",
       "      <td>...</td>\n",
       "      <td>...</td>\n",
       "      <td>...</td>\n",
       "      <td>...</td>\n",
       "      <td>...</td>\n",
       "      <td>...</td>\n",
       "      <td>...</td>\n",
       "      <td>...</td>\n",
       "      <td>...</td>\n",
       "      <td>...</td>\n",
       "      <td>...</td>\n",
       "      <td>...</td>\n",
       "      <td>...</td>\n",
       "      <td>...</td>\n",
       "      <td>...</td>\n",
       "      <td>...</td>\n",
       "      <td>...</td>\n",
       "      <td>...</td>\n",
       "      <td>...</td>\n",
       "      <td>...</td>\n",
       "      <td>...</td>\n",
       "    </tr>\n",
       "    <tr>\n",
       "      <th>269146</th>\n",
       "      <td>1999-12-27</td>\n",
       "      <td>1</td>\n",
       "      <td>1102.0</td>\n",
       "      <td>1100</td>\n",
       "      <td>1305.0</td>\n",
       "      <td>1311</td>\n",
       "      <td>UA</td>\n",
       "      <td>1685</td>\n",
       "      <td>N515UA</td>\n",
       "      <td>243.0</td>\n",
       "      <td>...</td>\n",
       "      <td>208.0</td>\n",
       "      <td>-6.0</td>\n",
       "      <td>2.0</td>\n",
       "      <td>LGA</td>\n",
       "      <td>DEN</td>\n",
       "      <td>1619.0</td>\n",
       "      <td>10.0</td>\n",
       "      <td>25.0</td>\n",
       "      <td>0</td>\n",
       "      <td>0</td>\n",
       "    </tr>\n",
       "    <tr>\n",
       "      <th>269147</th>\n",
       "      <td>1999-12-28</td>\n",
       "      <td>2</td>\n",
       "      <td>1058.0</td>\n",
       "      <td>1100</td>\n",
       "      <td>1305.0</td>\n",
       "      <td>1311</td>\n",
       "      <td>UA</td>\n",
       "      <td>1685</td>\n",
       "      <td>N598UA</td>\n",
       "      <td>247.0</td>\n",
       "      <td>...</td>\n",
       "      <td>221.0</td>\n",
       "      <td>-6.0</td>\n",
       "      <td>-2.0</td>\n",
       "      <td>LGA</td>\n",
       "      <td>DEN</td>\n",
       "      <td>1619.0</td>\n",
       "      <td>6.0</td>\n",
       "      <td>20.0</td>\n",
       "      <td>0</td>\n",
       "      <td>0</td>\n",
       "    </tr>\n",
       "    <tr>\n",
       "      <th>269148</th>\n",
       "      <td>1999-12-29</td>\n",
       "      <td>3</td>\n",
       "      <td>1057.0</td>\n",
       "      <td>1100</td>\n",
       "      <td>1308.0</td>\n",
       "      <td>1311</td>\n",
       "      <td>UA</td>\n",
       "      <td>1685</td>\n",
       "      <td>N517UA</td>\n",
       "      <td>251.0</td>\n",
       "      <td>...</td>\n",
       "      <td>218.0</td>\n",
       "      <td>-3.0</td>\n",
       "      <td>-3.0</td>\n",
       "      <td>LGA</td>\n",
       "      <td>DEN</td>\n",
       "      <td>1619.0</td>\n",
       "      <td>5.0</td>\n",
       "      <td>28.0</td>\n",
       "      <td>0</td>\n",
       "      <td>0</td>\n",
       "    </tr>\n",
       "    <tr>\n",
       "      <th>269149</th>\n",
       "      <td>1999-12-30</td>\n",
       "      <td>4</td>\n",
       "      <td>1056.0</td>\n",
       "      <td>1100</td>\n",
       "      <td>1312.0</td>\n",
       "      <td>1311</td>\n",
       "      <td>UA</td>\n",
       "      <td>1685</td>\n",
       "      <td>N502UA</td>\n",
       "      <td>256.0</td>\n",
       "      <td>...</td>\n",
       "      <td>227.0</td>\n",
       "      <td>1.0</td>\n",
       "      <td>-4.0</td>\n",
       "      <td>LGA</td>\n",
       "      <td>DEN</td>\n",
       "      <td>1619.0</td>\n",
       "      <td>6.0</td>\n",
       "      <td>23.0</td>\n",
       "      <td>0</td>\n",
       "      <td>0</td>\n",
       "    </tr>\n",
       "    <tr>\n",
       "      <th>269150</th>\n",
       "      <td>1999-12-31</td>\n",
       "      <td>5</td>\n",
       "      <td>1101.0</td>\n",
       "      <td>1100</td>\n",
       "      <td>1352.0</td>\n",
       "      <td>1311</td>\n",
       "      <td>UA</td>\n",
       "      <td>1685</td>\n",
       "      <td>N559UA</td>\n",
       "      <td>291.0</td>\n",
       "      <td>...</td>\n",
       "      <td>234.0</td>\n",
       "      <td>41.0</td>\n",
       "      <td>1.0</td>\n",
       "      <td>LGA</td>\n",
       "      <td>DEN</td>\n",
       "      <td>1619.0</td>\n",
       "      <td>7.0</td>\n",
       "      <td>50.0</td>\n",
       "      <td>0</td>\n",
       "      <td>0</td>\n",
       "    </tr>\n",
       "  </tbody>\n",
       "</table>\n",
       "<p>1254694 rows × 21 columns</p>\n",
       "</div>"
      ],
      "text/plain": [
       "             Date  DayOfWeek  DepTime  CRSDepTime  ArrTime  CRSArrTime  \\\n",
       "88     1990-01-01          1   1205.0        1110   1343.0        1243   \n",
       "89     1990-01-02          2   1158.0        1110   1327.0        1243   \n",
       "90     1990-01-03          3   1202.0        1110   1324.0        1243   \n",
       "91     1990-01-06          6   1126.0        1110   1322.0        1243   \n",
       "92     1990-01-07          7   1114.0        1110   1236.0        1243   \n",
       "...           ...        ...      ...         ...      ...         ...   \n",
       "269146 1999-12-27          1   1102.0        1100   1305.0        1311   \n",
       "269147 1999-12-28          2   1058.0        1100   1305.0        1311   \n",
       "269148 1999-12-29          3   1057.0        1100   1308.0        1311   \n",
       "269149 1999-12-30          4   1056.0        1100   1312.0        1311   \n",
       "269150 1999-12-31          5   1101.0        1100   1352.0        1311   \n",
       "\n",
       "       UniqueCarrier  FlightNum TailNum  ActualElapsedTime  ...  AirTime  \\\n",
       "88                US         49     NaN               98.0  ...      NaN   \n",
       "89                US         49     NaN               89.0  ...      NaN   \n",
       "90                US         49     NaN               82.0  ...      NaN   \n",
       "91                US         49     NaN              116.0  ...      NaN   \n",
       "92                US         49     NaN               82.0  ...      NaN   \n",
       "...              ...        ...     ...                ...  ...      ...   \n",
       "269146            UA       1685  N515UA              243.0  ...    208.0   \n",
       "269147            UA       1685  N598UA              247.0  ...    221.0   \n",
       "269148            UA       1685  N517UA              251.0  ...    218.0   \n",
       "269149            UA       1685  N502UA              256.0  ...    227.0   \n",
       "269150            UA       1685  N559UA              291.0  ...    234.0   \n",
       "\n",
       "        ArrDelay  DepDelay  Origin Dest Distance  TaxiIn  TaxiOut  Cancelled  \\\n",
       "88          60.0      55.0     LGA  CLE    418.0     NaN      NaN          0   \n",
       "89          44.0      48.0     LGA  CLE    418.0     NaN      NaN          0   \n",
       "90          41.0      52.0     LGA  CLE    418.0     NaN      NaN          0   \n",
       "91          39.0      16.0     LGA  CLE    418.0     NaN      NaN          0   \n",
       "92          -7.0       4.0     LGA  CLE    418.0     NaN      NaN          0   \n",
       "...          ...       ...     ...  ...      ...     ...      ...        ...   \n",
       "269146      -6.0       2.0     LGA  DEN   1619.0    10.0     25.0          0   \n",
       "269147      -6.0      -2.0     LGA  DEN   1619.0     6.0     20.0          0   \n",
       "269148      -3.0      -3.0     LGA  DEN   1619.0     5.0     28.0          0   \n",
       "269149       1.0      -4.0     LGA  DEN   1619.0     6.0     23.0          0   \n",
       "269150      41.0       1.0     LGA  DEN   1619.0     7.0     50.0          0   \n",
       "\n",
       "        Diverted  \n",
       "88             0  \n",
       "89             0  \n",
       "90             0  \n",
       "91             0  \n",
       "92             0  \n",
       "...          ...  \n",
       "269146         0  \n",
       "269147         0  \n",
       "269148         0  \n",
       "269149         0  \n",
       "269150         0  \n",
       "\n",
       "[1254694 rows x 21 columns]"
      ]
     },
     "execution_count": 14,
     "metadata": {},
     "output_type": "execute_result"
    }
   ],
   "source": [
    "ddf.loc[ddf['ArrTime'] < ddf['ArrTime'].mean()].compute()"
   ]
  },
  {
   "cell_type": "code",
   "execution_count": 15,
   "id": "ceadf1eb",
   "metadata": {},
   "outputs": [
    {
     "data": {
      "text/html": [
       "<div>\n",
       "<style scoped>\n",
       "    .dataframe tbody tr th:only-of-type {\n",
       "        vertical-align: middle;\n",
       "    }\n",
       "\n",
       "    .dataframe tbody tr th {\n",
       "        vertical-align: top;\n",
       "    }\n",
       "\n",
       "    .dataframe thead th {\n",
       "        text-align: right;\n",
       "    }\n",
       "</style>\n",
       "<table border=\"1\" class=\"dataframe\">\n",
       "  <thead>\n",
       "    <tr style=\"text-align: right;\">\n",
       "      <th></th>\n",
       "      <th>DayOfWeek</th>\n",
       "      <th>CRSDepTime</th>\n",
       "    </tr>\n",
       "  </thead>\n",
       "  <tbody>\n",
       "    <tr>\n",
       "      <th>0</th>\n",
       "      <td>1</td>\n",
       "      <td>1540</td>\n",
       "    </tr>\n",
       "    <tr>\n",
       "      <th>1</th>\n",
       "      <td>2</td>\n",
       "      <td>1540</td>\n",
       "    </tr>\n",
       "    <tr>\n",
       "      <th>2</th>\n",
       "      <td>3</td>\n",
       "      <td>1540</td>\n",
       "    </tr>\n",
       "    <tr>\n",
       "      <th>3</th>\n",
       "      <td>4</td>\n",
       "      <td>1540</td>\n",
       "    </tr>\n",
       "    <tr>\n",
       "      <th>4</th>\n",
       "      <td>5</td>\n",
       "      <td>1540</td>\n",
       "    </tr>\n",
       "    <tr>\n",
       "      <th>...</th>\n",
       "      <td>...</td>\n",
       "      <td>...</td>\n",
       "    </tr>\n",
       "    <tr>\n",
       "      <th>269176</th>\n",
       "      <td>1</td>\n",
       "      <td>1645</td>\n",
       "    </tr>\n",
       "    <tr>\n",
       "      <th>269177</th>\n",
       "      <td>2</td>\n",
       "      <td>1645</td>\n",
       "    </tr>\n",
       "    <tr>\n",
       "      <th>269178</th>\n",
       "      <td>3</td>\n",
       "      <td>1645</td>\n",
       "    </tr>\n",
       "    <tr>\n",
       "      <th>269179</th>\n",
       "      <td>4</td>\n",
       "      <td>1645</td>\n",
       "    </tr>\n",
       "    <tr>\n",
       "      <th>269180</th>\n",
       "      <td>5</td>\n",
       "      <td>1645</td>\n",
       "    </tr>\n",
       "  </tbody>\n",
       "</table>\n",
       "<p>2611892 rows × 2 columns</p>\n",
       "</div>"
      ],
      "text/plain": [
       "        DayOfWeek  CRSDepTime\n",
       "0               1        1540\n",
       "1               2        1540\n",
       "2               3        1540\n",
       "3               4        1540\n",
       "4               5        1540\n",
       "...           ...         ...\n",
       "269176          1        1645\n",
       "269177          2        1645\n",
       "269178          3        1645\n",
       "269179          4        1645\n",
       "269180          5        1645\n",
       "\n",
       "[2611892 rows x 2 columns]"
      ]
     },
     "execution_count": 15,
     "metadata": {},
     "output_type": "execute_result"
    }
   ],
   "source": [
    "ddf.iloc[:,[1,3,]].compute()"
   ]
  },
  {
   "cell_type": "code",
   "execution_count": 16,
   "id": "f6477f29",
   "metadata": {},
   "outputs": [],
   "source": [
    "# ddf.iloc[[1,3,]].compute()"
   ]
  },
  {
   "cell_type": "markdown",
   "id": "fdd4ecc6",
   "metadata": {},
   "source": [
    "## Task 8 - Converting from Pandas to Dask"
   ]
  },
  {
   "cell_type": "code",
   "execution_count": 17,
   "id": "0543b734",
   "metadata": {},
   "outputs": [
    {
     "data": {
      "text/html": [
       "<div><strong>Dask DataFrame Structure:</strong></div>\n",
       "<div>\n",
       "<style scoped>\n",
       "    .dataframe tbody tr th:only-of-type {\n",
       "        vertical-align: middle;\n",
       "    }\n",
       "\n",
       "    .dataframe tbody tr th {\n",
       "        vertical-align: top;\n",
       "    }\n",
       "\n",
       "    .dataframe thead th {\n",
       "        text-align: right;\n",
       "    }\n",
       "</style>\n",
       "<table border=\"1\" class=\"dataframe\">\n",
       "  <thead>\n",
       "    <tr style=\"text-align: right;\">\n",
       "      <th></th>\n",
       "      <th>Year</th>\n",
       "      <th>Month</th>\n",
       "      <th>DayofMonth</th>\n",
       "      <th>DayOfWeek</th>\n",
       "      <th>DepTime</th>\n",
       "      <th>CRSDepTime</th>\n",
       "      <th>ArrTime</th>\n",
       "      <th>CRSArrTime</th>\n",
       "      <th>UniqueCarrier</th>\n",
       "      <th>FlightNum</th>\n",
       "      <th>TailNum</th>\n",
       "      <th>ActualElapsedTime</th>\n",
       "      <th>CRSElapsedTime</th>\n",
       "      <th>AirTime</th>\n",
       "      <th>ArrDelay</th>\n",
       "      <th>DepDelay</th>\n",
       "      <th>Origin</th>\n",
       "      <th>Dest</th>\n",
       "      <th>Distance</th>\n",
       "      <th>TaxiIn</th>\n",
       "      <th>TaxiOut</th>\n",
       "      <th>Cancelled</th>\n",
       "      <th>Diverted</th>\n",
       "    </tr>\n",
       "    <tr>\n",
       "      <th>npartitions=1</th>\n",
       "      <th></th>\n",
       "      <th></th>\n",
       "      <th></th>\n",
       "      <th></th>\n",
       "      <th></th>\n",
       "      <th></th>\n",
       "      <th></th>\n",
       "      <th></th>\n",
       "      <th></th>\n",
       "      <th></th>\n",
       "      <th></th>\n",
       "      <th></th>\n",
       "      <th></th>\n",
       "      <th></th>\n",
       "      <th></th>\n",
       "      <th></th>\n",
       "      <th></th>\n",
       "      <th></th>\n",
       "      <th></th>\n",
       "      <th></th>\n",
       "      <th></th>\n",
       "      <th></th>\n",
       "      <th></th>\n",
       "    </tr>\n",
       "  </thead>\n",
       "  <tbody>\n",
       "    <tr>\n",
       "      <th>26119</th>\n",
       "      <td>int64</td>\n",
       "      <td>int64</td>\n",
       "      <td>int64</td>\n",
       "      <td>int64</td>\n",
       "      <td>float64</td>\n",
       "      <td>int64</td>\n",
       "      <td>float64</td>\n",
       "      <td>int64</td>\n",
       "      <td>object</td>\n",
       "      <td>int64</td>\n",
       "      <td>object</td>\n",
       "      <td>float64</td>\n",
       "      <td>float64</td>\n",
       "      <td>float64</td>\n",
       "      <td>float64</td>\n",
       "      <td>float64</td>\n",
       "      <td>object</td>\n",
       "      <td>object</td>\n",
       "      <td>float64</td>\n",
       "      <td>float64</td>\n",
       "      <td>float64</td>\n",
       "      <td>int64</td>\n",
       "      <td>int64</td>\n",
       "    </tr>\n",
       "    <tr>\n",
       "      <th>52238</th>\n",
       "      <td>...</td>\n",
       "      <td>...</td>\n",
       "      <td>...</td>\n",
       "      <td>...</td>\n",
       "      <td>...</td>\n",
       "      <td>...</td>\n",
       "      <td>...</td>\n",
       "      <td>...</td>\n",
       "      <td>...</td>\n",
       "      <td>...</td>\n",
       "      <td>...</td>\n",
       "      <td>...</td>\n",
       "      <td>...</td>\n",
       "      <td>...</td>\n",
       "      <td>...</td>\n",
       "      <td>...</td>\n",
       "      <td>...</td>\n",
       "      <td>...</td>\n",
       "      <td>...</td>\n",
       "      <td>...</td>\n",
       "      <td>...</td>\n",
       "      <td>...</td>\n",
       "      <td>...</td>\n",
       "    </tr>\n",
       "  </tbody>\n",
       "</table>\n",
       "</div>\n",
       "<div>Dask Name: blocks, 11 tasks</div>"
      ],
      "text/plain": [
       "Dask DataFrame Structure:\n",
       "                Year  Month DayofMonth DayOfWeek  DepTime CRSDepTime  ArrTime CRSArrTime UniqueCarrier FlightNum TailNum ActualElapsedTime CRSElapsedTime  AirTime ArrDelay DepDelay  Origin    Dest Distance   TaxiIn  TaxiOut Cancelled Diverted\n",
       "npartitions=1                                                                                                                                                                                                                                     \n",
       "26119          int64  int64      int64     int64  float64      int64  float64      int64        object     int64  object           float64        float64  float64  float64  float64  object  object  float64  float64  float64     int64    int64\n",
       "52238            ...    ...        ...       ...      ...        ...      ...        ...           ...       ...     ...               ...            ...      ...      ...      ...     ...     ...      ...      ...      ...       ...      ...\n",
       "Dask Name: blocks, 11 tasks"
      ]
     },
     "execution_count": 17,
     "metadata": {},
     "output_type": "execute_result"
    }
   ],
   "source": [
    "ddf_partitions = dd.from_pandas(pdf, npartitions = 10)\n",
    "ddf_partitions.partitions[1]"
   ]
  },
  {
   "cell_type": "markdown",
   "id": "43a8eb44",
   "metadata": {},
   "source": [
    "## Task 9 - Computations on Dask DataFrames "
   ]
  },
  {
   "cell_type": "markdown",
   "id": "7062176f",
   "metadata": {},
   "source": [
    "### Task 9.a - Calculate the number of non-missing values in each column"
   ]
  },
  {
   "cell_type": "code",
   "execution_count": 18,
   "id": "f199f85f",
   "metadata": {},
   "outputs": [
    {
     "data": {
      "text/plain": [
       "Date                 2611892\n",
       "DayOfWeek            2611892\n",
       "DepTime              2540961\n",
       "CRSDepTime           2611892\n",
       "ArrTime              2533682\n",
       "CRSArrTime           2611892\n",
       "UniqueCarrier        2611892\n",
       "FlightNum            2611892\n",
       "TailNum              1298886\n",
       "ActualElapsedTime    2533682\n",
       "CRSElapsedTime       2609927\n",
       "AirTime              1255069\n",
       "ArrDelay             2533682\n",
       "DepDelay             2540961\n",
       "Origin               2611892\n",
       "Dest                 2611892\n",
       "Distance             2610397\n",
       "TaxiIn               1298886\n",
       "TaxiOut              1298886\n",
       "Cancelled            2611892\n",
       "Diverted             2611892\n",
       "dtype: int64"
      ]
     },
     "execution_count": 18,
     "metadata": {},
     "output_type": "execute_result"
    }
   ],
   "source": [
    "ddf.count().compute()"
   ]
  },
  {
   "cell_type": "markdown",
   "id": "d1d65552",
   "metadata": {},
   "source": [
    "### Task 9.b - Calculate the counts of each of the categorical values in the Cancelled column"
   ]
  },
  {
   "cell_type": "code",
   "execution_count": 19,
   "id": "30ea7242",
   "metadata": {},
   "outputs": [
    {
     "data": {
      "text/plain": [
       "0    2540961\n",
       "1      70931\n",
       "Name: Cancelled, dtype: int64"
      ]
     },
     "execution_count": 19,
     "metadata": {},
     "output_type": "execute_result"
    }
   ],
   "source": [
    "ddf['Cancelled'].value_counts().compute()"
   ]
  },
  {
   "cell_type": "markdown",
   "id": "7246f714",
   "metadata": {},
   "source": [
    "### Task 9.c - Calculate the max value of the DepDelay column"
   ]
  },
  {
   "cell_type": "code",
   "execution_count": 20,
   "id": "ddfa9b94",
   "metadata": {},
   "outputs": [
    {
     "data": {
      "text/plain": [
       "1435.0"
      ]
     },
     "execution_count": 20,
     "metadata": {},
     "output_type": "execute_result"
    }
   ],
   "source": [
    "ddf['DepDelay'].max().compute()"
   ]
  },
  {
   "cell_type": "markdown",
   "id": "0dd8e288",
   "metadata": {},
   "source": [
    "### Task 9.d - Find and print the columns for all the rows where the flights are Cancelled"
   ]
  },
  {
   "cell_type": "code",
   "execution_count": 21,
   "id": "39a8966c",
   "metadata": {},
   "outputs": [
    {
     "name": "stdout",
     "output_type": "stream",
     "text": [
      "             Date  DayOfWeek  DepTime  CRSDepTime  ArrTime  CRSArrTime  \\\n",
      "37     1990-01-08          1      NaN        2050      NaN        2203   \n",
      "55     1990-01-29          1      NaN        2050      NaN        2203   \n",
      "61     1990-01-04          4      NaN        1850      NaN        1948   \n",
      "207    1990-01-01          1      NaN         645      NaN         850   \n",
      "259    1990-01-25          4      NaN        1755      NaN        1942   \n",
      "...           ...        ...      ...         ...      ...         ...   \n",
      "268926 1999-12-20          1      NaN        1846      NaN        2103   \n",
      "269031 1999-12-16          4      NaN         615      NaN         829   \n",
      "269093 1999-12-14          2      NaN        1650      NaN        1906   \n",
      "269153 1999-12-17          5      NaN        1400      NaN        1613   \n",
      "269154 1999-12-20          1      NaN        1400      NaN        1613   \n",
      "\n",
      "       UniqueCarrier  FlightNum TailNum  ActualElapsedTime  ...  AirTime  \\\n",
      "37                US         38     NaN                NaN  ...      NaN   \n",
      "55                US         38     NaN                NaN  ...      NaN   \n",
      "61                US         42     NaN                NaN  ...      NaN   \n",
      "207               US         93     NaN                NaN  ...      NaN   \n",
      "259               US        105     NaN                NaN  ...      NaN   \n",
      "...              ...        ...     ...                ...  ...      ...   \n",
      "268926            UA       1609  UNKNOW                NaN  ...      NaN   \n",
      "269031            UA        401  UNKNOW                NaN  ...      NaN   \n",
      "269093            UA        785  UNKNOW                NaN  ...      NaN   \n",
      "269153            UA       1691  UNKNOW                NaN  ...      NaN   \n",
      "269154            UA       1691  UNKNOW                NaN  ...      NaN   \n",
      "\n",
      "        ArrDelay  DepDelay  Origin Dest Distance  TaxiIn  TaxiOut  Cancelled  \\\n",
      "37           NaN       NaN     LGA  ORF    296.0     NaN      NaN          1   \n",
      "55           NaN       NaN     LGA  ORF    296.0     NaN      NaN          1   \n",
      "61           NaN       NaN     EWR  SYR    194.0     NaN      NaN          1   \n",
      "207          NaN       NaN     LGA  IND    659.0     NaN      NaN          1   \n",
      "259          NaN       NaN     JFK  PIT    340.0     NaN      NaN          1   \n",
      "...          ...       ...     ...  ...      ...     ...      ...        ...   \n",
      "268926       NaN       NaN     EWR  DEN   1605.0     0.0      0.0          1   \n",
      "269031       NaN       NaN     LGA  DEN   1619.0     0.0      0.0          1   \n",
      "269093       NaN       NaN     LGA  DEN   1619.0     0.0      0.0          1   \n",
      "269153       NaN       NaN     LGA  DEN   1619.0     0.0      0.0          1   \n",
      "269154       NaN       NaN     LGA  DEN   1619.0     0.0      0.0          1   \n",
      "\n",
      "        Diverted  \n",
      "37             0  \n",
      "55             0  \n",
      "61             0  \n",
      "207            0  \n",
      "259            0  \n",
      "...          ...  \n",
      "268926         0  \n",
      "269031         0  \n",
      "269093         0  \n",
      "269153         0  \n",
      "269154         0  \n",
      "\n",
      "[70931 rows x 21 columns]\n"
     ]
    }
   ],
   "source": [
    "print(ddf[ddf['Cancelled']==True].compute())"
   ]
  },
  {
   "cell_type": "markdown",
   "id": "52173f4b",
   "metadata": {},
   "source": [
    "### Task 9.e - How many observations are there where the DayOfWeek column equals 1?"
   ]
  },
  {
   "cell_type": "code",
   "execution_count": 22,
   "id": "9ac7bb5c",
   "metadata": {},
   "outputs": [
    {
     "data": {
      "text/plain": [
       "388011"
      ]
     },
     "execution_count": 22,
     "metadata": {},
     "output_type": "execute_result"
    }
   ],
   "source": [
    "ddf[ddf['DayOfWeek']==1].shape[0].compute()"
   ]
  },
  {
   "cell_type": "markdown",
   "id": "8c09c307",
   "metadata": {},
   "source": [
    "### Task 9.f - How many non-cancelled flights were taken from each Origin airport?"
   ]
  },
  {
   "cell_type": "code",
   "execution_count": 23,
   "id": "0fb38249",
   "metadata": {},
   "outputs": [
    {
     "data": {
      "text/plain": [
       "EWR    1139451\n",
       "LGA     974267\n",
       "JFK     427243\n",
       "Name: Origin, dtype: int64"
      ]
     },
     "execution_count": 23,
     "metadata": {},
     "output_type": "execute_result"
    }
   ],
   "source": [
    "# Number of non-cancelled flights taken from Origin airport\n",
    "ddf[ddf['Cancelled'] == 0]['Origin'].value_counts().compute()"
   ]
  },
  {
   "cell_type": "code",
   "execution_count": 24,
   "id": "773b5fc5",
   "metadata": {},
   "outputs": [
    {
     "data": {
      "text/plain": [
       "EWR    0.970463\n",
       "LGA    0.970946\n",
       "JFK    0.983658\n",
       "Name: Origin, dtype: float64"
      ]
     },
     "execution_count": 24,
     "metadata": {},
     "output_type": "execute_result"
    }
   ],
   "source": [
    "# Bonus\n",
    "numerator = ddf[ddf['Cancelled'] == 0]['Origin'].value_counts()\n",
    "numerator.compute()\n",
    "denominator = ddf['Origin'].value_counts()\n",
    "denominator.compute()\n",
    "ratio = numerator / denominator\n",
    "ratio.compute()"
   ]
  },
  {
   "cell_type": "markdown",
   "id": "4ca2ddbf",
   "metadata": {},
   "source": [
    "### Task 9.g - Calculate the average departure delay for each Origin airport by DayOfWeek"
   ]
  },
  {
   "cell_type": "code",
   "execution_count": 25,
   "id": "d44a6d5f",
   "metadata": {},
   "outputs": [
    {
     "data": {
      "text/plain": [
       "Origin  DayOfWeek\n",
       "EWR     1             9.115922\n",
       "        2             9.179402\n",
       "        3            10.606154\n",
       "        4            12.069740\n",
       "        5            13.154202\n",
       "        6             8.053139\n",
       "        7             9.432185\n",
       "JFK     1             8.884113\n",
       "        2             8.841036\n",
       "        3             9.448858\n",
       "        4            10.846967\n",
       "        5            12.339922\n",
       "        6            11.191893\n",
       "        7            10.947545\n",
       "LGA     1             6.580465\n",
       "        2             6.659778\n",
       "        3             7.311600\n",
       "        4             8.620151\n",
       "        5             9.151866\n",
       "        6             5.800159\n",
       "        7             7.589457\n",
       "Name: DepDelay, dtype: float64"
      ]
     },
     "execution_count": 25,
     "metadata": {},
     "output_type": "execute_result"
    }
   ],
   "source": [
    "ddf.groupby(['Origin', 'DayOfWeek'])['DepDelay'].mean().compute()"
   ]
  },
  {
   "cell_type": "markdown",
   "id": "6180e520",
   "metadata": {},
   "source": [
    "### Task 9.h - For each of the three NYC area airports as the Destination, compute the means of all columns. You may use the .isin() method of Series"
   ]
  },
  {
   "cell_type": "code",
   "execution_count": 26,
   "id": "d9ff5454",
   "metadata": {},
   "outputs": [
    {
     "data": {
      "text/html": [
       "<div>\n",
       "<style scoped>\n",
       "    .dataframe tbody tr th:only-of-type {\n",
       "        vertical-align: middle;\n",
       "    }\n",
       "\n",
       "    .dataframe tbody tr th {\n",
       "        vertical-align: top;\n",
       "    }\n",
       "\n",
       "    .dataframe thead th {\n",
       "        text-align: right;\n",
       "    }\n",
       "</style>\n",
       "<table border=\"1\" class=\"dataframe\">\n",
       "  <thead>\n",
       "    <tr style=\"text-align: right;\">\n",
       "      <th></th>\n",
       "      <th>DayOfWeek</th>\n",
       "      <th>DepTime</th>\n",
       "      <th>CRSDepTime</th>\n",
       "      <th>ArrTime</th>\n",
       "      <th>CRSArrTime</th>\n",
       "      <th>FlightNum</th>\n",
       "      <th>ActualElapsedTime</th>\n",
       "      <th>CRSElapsedTime</th>\n",
       "      <th>AirTime</th>\n",
       "      <th>ArrDelay</th>\n",
       "      <th>DepDelay</th>\n",
       "      <th>Distance</th>\n",
       "      <th>TaxiIn</th>\n",
       "      <th>TaxiOut</th>\n",
       "      <th>Cancelled</th>\n",
       "      <th>Diverted</th>\n",
       "    </tr>\n",
       "    <tr>\n",
       "      <th>Dest</th>\n",
       "      <th></th>\n",
       "      <th></th>\n",
       "      <th></th>\n",
       "      <th></th>\n",
       "      <th></th>\n",
       "      <th></th>\n",
       "      <th></th>\n",
       "      <th></th>\n",
       "      <th></th>\n",
       "      <th></th>\n",
       "      <th></th>\n",
       "      <th></th>\n",
       "      <th></th>\n",
       "      <th></th>\n",
       "      <th></th>\n",
       "      <th></th>\n",
       "    </tr>\n",
       "  </thead>\n",
       "  <tbody>\n",
       "    <tr>\n",
       "      <th>EWR</th>\n",
       "      <td>3.838710</td>\n",
       "      <td>1216.100000</td>\n",
       "      <td>885.483871</td>\n",
       "      <td>1068.833333</td>\n",
       "      <td>845.612903</td>\n",
       "      <td>559.225806</td>\n",
       "      <td>45.166667</td>\n",
       "      <td>32.233333</td>\n",
       "      <td>27.777778</td>\n",
       "      <td>34.583333</td>\n",
       "      <td>23.766667</td>\n",
       "      <td>19.064516</td>\n",
       "      <td>7.111111</td>\n",
       "      <td>23.666667</td>\n",
       "      <td>0.032258</td>\n",
       "      <td>0.193548</td>\n",
       "    </tr>\n",
       "    <tr>\n",
       "      <th>LGA</th>\n",
       "      <td>4.625000</td>\n",
       "      <td>1313.500000</td>\n",
       "      <td>795.000000</td>\n",
       "      <td>1164.833333</td>\n",
       "      <td>821.375000</td>\n",
       "      <td>2310.500000</td>\n",
       "      <td>37.500000</td>\n",
       "      <td>31.125000</td>\n",
       "      <td>8.800000</td>\n",
       "      <td>25.500000</td>\n",
       "      <td>37.000000</td>\n",
       "      <td>14.750000</td>\n",
       "      <td>7.200000</td>\n",
       "      <td>18.400000</td>\n",
       "      <td>0.000000</td>\n",
       "      <td>0.250000</td>\n",
       "    </tr>\n",
       "    <tr>\n",
       "      <th>JFK</th>\n",
       "      <td>5.166667</td>\n",
       "      <td>1652.166667</td>\n",
       "      <td>1679.833333</td>\n",
       "      <td>1765.000000</td>\n",
       "      <td>1731.666667</td>\n",
       "      <td>1009.666667</td>\n",
       "      <td>59.500000</td>\n",
       "      <td>30.166667</td>\n",
       "      <td>19.500000</td>\n",
       "      <td>114.166667</td>\n",
       "      <td>84.833333</td>\n",
       "      <td>17.666667</td>\n",
       "      <td>7.000000</td>\n",
       "      <td>18.500000</td>\n",
       "      <td>0.000000</td>\n",
       "      <td>0.000000</td>\n",
       "    </tr>\n",
       "  </tbody>\n",
       "</table>\n",
       "</div>"
      ],
      "text/plain": [
       "      DayOfWeek      DepTime   CRSDepTime      ArrTime   CRSArrTime  \\\n",
       "Dest                                                                  \n",
       "EWR    3.838710  1216.100000   885.483871  1068.833333   845.612903   \n",
       "LGA    4.625000  1313.500000   795.000000  1164.833333   821.375000   \n",
       "JFK    5.166667  1652.166667  1679.833333  1765.000000  1731.666667   \n",
       "\n",
       "        FlightNum  ActualElapsedTime  CRSElapsedTime    AirTime    ArrDelay  \\\n",
       "Dest                                                                          \n",
       "EWR    559.225806          45.166667       32.233333  27.777778   34.583333   \n",
       "LGA   2310.500000          37.500000       31.125000   8.800000   25.500000   \n",
       "JFK   1009.666667          59.500000       30.166667  19.500000  114.166667   \n",
       "\n",
       "       DepDelay   Distance    TaxiIn    TaxiOut  Cancelled  Diverted  \n",
       "Dest                                                                  \n",
       "EWR   23.766667  19.064516  7.111111  23.666667   0.032258  0.193548  \n",
       "LGA   37.000000  14.750000  7.200000  18.400000   0.000000  0.250000  \n",
       "JFK   84.833333  17.666667  7.000000  18.500000   0.000000  0.000000  "
      ]
     },
     "execution_count": 26,
     "metadata": {},
     "output_type": "execute_result"
    }
   ],
   "source": [
    "nyc_means = ddf[ddf['Dest'].isin(['JFK', 'LGA', 'EWR'])].groupby('Dest').mean()\n",
    "nyc_means.compute()"
   ]
  },
  {
   "cell_type": "markdown",
   "id": "0dcfb8f9",
   "metadata": {},
   "source": [
    "### Task 9.i - For each year, compute the maximum values of ActualElapsedTime and Distance."
   ]
  },
  {
   "cell_type": "code",
   "execution_count": 27,
   "id": "e48da078",
   "metadata": {},
   "outputs": [
    {
     "data": {
      "text/html": [
       "<div>\n",
       "<style scoped>\n",
       "    .dataframe tbody tr th:only-of-type {\n",
       "        vertical-align: middle;\n",
       "    }\n",
       "\n",
       "    .dataframe tbody tr th {\n",
       "        vertical-align: top;\n",
       "    }\n",
       "\n",
       "    .dataframe thead th {\n",
       "        text-align: right;\n",
       "    }\n",
       "</style>\n",
       "<table border=\"1\" class=\"dataframe\">\n",
       "  <thead>\n",
       "    <tr style=\"text-align: right;\">\n",
       "      <th></th>\n",
       "      <th>ActualElapsedTime</th>\n",
       "      <th>Distance</th>\n",
       "    </tr>\n",
       "    <tr>\n",
       "      <th>Date</th>\n",
       "      <th></th>\n",
       "      <th></th>\n",
       "    </tr>\n",
       "  </thead>\n",
       "  <tbody>\n",
       "    <tr>\n",
       "      <th>1990</th>\n",
       "      <td>595.0</td>\n",
       "      <td>2586.0</td>\n",
       "    </tr>\n",
       "    <tr>\n",
       "      <th>1991</th>\n",
       "      <td>632.0</td>\n",
       "      <td>2586.0</td>\n",
       "    </tr>\n",
       "    <tr>\n",
       "      <th>1992</th>\n",
       "      <td>703.0</td>\n",
       "      <td>2586.0</td>\n",
       "    </tr>\n",
       "    <tr>\n",
       "      <th>1993</th>\n",
       "      <td>675.0</td>\n",
       "      <td>2586.0</td>\n",
       "    </tr>\n",
       "    <tr>\n",
       "      <th>1994</th>\n",
       "      <td>647.0</td>\n",
       "      <td>2586.0</td>\n",
       "    </tr>\n",
       "    <tr>\n",
       "      <th>1995</th>\n",
       "      <td>581.0</td>\n",
       "      <td>2586.0</td>\n",
       "    </tr>\n",
       "    <tr>\n",
       "      <th>1996</th>\n",
       "      <td>620.0</td>\n",
       "      <td>2586.0</td>\n",
       "    </tr>\n",
       "    <tr>\n",
       "      <th>1997</th>\n",
       "      <td>587.0</td>\n",
       "      <td>2586.0</td>\n",
       "    </tr>\n",
       "    <tr>\n",
       "      <th>1998</th>\n",
       "      <td>743.0</td>\n",
       "      <td>4962.0</td>\n",
       "    </tr>\n",
       "    <tr>\n",
       "      <th>1999</th>\n",
       "      <td>795.0</td>\n",
       "      <td>4962.0</td>\n",
       "    </tr>\n",
       "  </tbody>\n",
       "</table>\n",
       "</div>"
      ],
      "text/plain": [
       "      ActualElapsedTime  Distance\n",
       "Date                             \n",
       "1990              595.0    2586.0\n",
       "1991              632.0    2586.0\n",
       "1992              703.0    2586.0\n",
       "1993              675.0    2586.0\n",
       "1994              647.0    2586.0\n",
       "1995              581.0    2586.0\n",
       "1996              620.0    2586.0\n",
       "1997              587.0    2586.0\n",
       "1998              743.0    4962.0\n",
       "1999              795.0    4962.0"
      ]
     },
     "execution_count": 27,
     "metadata": {},
     "output_type": "execute_result"
    }
   ],
   "source": [
    "ddf.groupby(ddf['Date'].dt.year)[['ActualElapsedTime', 'Distance']].max().compute()"
   ]
  },
  {
   "cell_type": "markdown",
   "id": "ec8b4238",
   "metadata": {},
   "source": [
    "## Task 10 - Visualizing Dask Task Graphs"
   ]
  },
  {
   "cell_type": "code",
   "execution_count": 28,
   "id": "0d94a7cd",
   "metadata": {},
   "outputs": [],
   "source": [
    "# ddf.groupby(\"Dest\")[\"ArrDelay\"].min().visualize()"
   ]
  },
  {
   "cell_type": "markdown",
   "id": "9fca7b62",
   "metadata": {},
   "source": [
    "## Task 11 - Use Distributed Task Scheduler: Set up a cluster and ProgressBar for diagnostics"
   ]
  },
  {
   "cell_type": "code",
   "execution_count": 29,
   "id": "131a3597",
   "metadata": {},
   "outputs": [
    {
     "name": "stdout",
     "output_type": "stream",
     "text": [
      "<Client: 'tcp://127.0.0.1:51180' processes=4 threads=8, memory=3.73 GiB>\n"
     ]
    },
    {
     "data": {
      "application/vnd.jupyter.widget-view+json": {
       "model_id": "5a47b53480814336a32f20665e5a880d",
       "version_major": 2,
       "version_minor": 0
      },
      "text/plain": [
       "Tab(children=(HTML(value='<div class=\"jp-RenderedHTMLCommon jp-RenderedHTML jp-mod-trusted jp-OutputArea-outpu…"
      ]
     },
     "metadata": {},
     "output_type": "display_data"
    }
   ],
   "source": [
    "# Import Client class from dask.distributed module\n",
    "from dask.distributed import Client\n",
    "\n",
    "# Local cluster with 4 workers and 2 threads per worker\n",
    "from dask.distributed import Client\n",
    "\n",
    "client = Client(n_workers = 4, threads_per_worker = 2, memory_limit = '1GB')\n",
    "print(client)\n",
    "client.cluster"
   ]
  },
  {
   "cell_type": "code",
   "execution_count": 30,
   "id": "56510f36",
   "metadata": {},
   "outputs": [
    {
     "data": {
      "text/plain": [
       "Dest\n",
       "ABE    -33.0\n",
       "ALB    -26.0\n",
       "ATL   -311.0\n",
       "BDL    -39.0\n",
       "BGR    -30.0\n",
       "       ...  \n",
       "AUS    -65.0\n",
       "CRP    -16.0\n",
       "HNL    -63.0\n",
       "BHM    -30.0\n",
       "TUS    -55.0\n",
       "Name: ArrDelay, Length: 99, dtype: float64"
      ]
     },
     "execution_count": 30,
     "metadata": {},
     "output_type": "execute_result"
    }
   ],
   "source": [
    "ddf.groupby(\"Dest\")[\"ArrDelay\"].min().compute()"
   ]
  },
  {
   "cell_type": "code",
   "execution_count": 31,
   "id": "58170580",
   "metadata": {},
   "outputs": [],
   "source": [
    "# Setup a progress bar\n",
    "from dask.diagnostics import ProgressBar\n",
    "ProgressBar().register()"
   ]
  },
  {
   "cell_type": "markdown",
   "id": "f72e3540",
   "metadata": {},
   "source": [
    "## Task 12 - Using a different scheduler for specific tasks "
   ]
  },
  {
   "cell_type": "code",
   "execution_count": 32,
   "id": "ffa7e7d3",
   "metadata": {},
   "outputs": [
    {
     "name": "stdout",
     "output_type": "stream",
     "text": [
      "[########################################] | 100% Completed |  2.8s\n"
     ]
    },
    {
     "data": {
      "text/plain": [
       "Dest\n",
       "ABE    -33.0\n",
       "ALB    -26.0\n",
       "ATL   -311.0\n",
       "BDL    -39.0\n",
       "BGR    -30.0\n",
       "       ...  \n",
       "AUS    -65.0\n",
       "CRP    -16.0\n",
       "HNL    -63.0\n",
       "BHM    -30.0\n",
       "TUS    -55.0\n",
       "Name: ArrDelay, Length: 99, dtype: float64"
      ]
     },
     "execution_count": 32,
     "metadata": {},
     "output_type": "execute_result"
    }
   ],
   "source": [
    "x = ddf.groupby(\"Dest\")[\"ArrDelay\"].min()\n",
    "x.compute(scheduler='threads')"
   ]
  },
  {
   "cell_type": "code",
   "execution_count": 33,
   "id": "0ed779bd",
   "metadata": {},
   "outputs": [
    {
     "name": "stdout",
     "output_type": "stream",
     "text": [
      "[########################################] | 100% Completed |  4.3s\n",
      "Dest\n",
      "ABE    -33.0\n",
      "ALB    -26.0\n",
      "ATL   -311.0\n",
      "BDL    -39.0\n",
      "BGR    -30.0\n",
      "       ...  \n",
      "AUS    -65.0\n",
      "CRP    -16.0\n",
      "HNL    -63.0\n",
      "BHM    -30.0\n",
      "TUS    -55.0\n",
      "Name: ArrDelay, Length: 99, dtype: float64\n"
     ]
    }
   ],
   "source": [
    "with dask.config.set(scheduler='processes'):\n",
    "    print(x.compute())"
   ]
  },
  {
   "cell_type": "markdown",
   "id": "b929a4da",
   "metadata": {},
   "source": [
    "# Section E - MACHINE LEARNING WITH DASK"
   ]
  },
  {
   "cell_type": "markdown",
   "id": "db8510a1",
   "metadata": {},
   "source": [
    "## Task 1 - Generate random data"
   ]
  },
  {
   "cell_type": "code",
   "execution_count": 34,
   "id": "df3fed06",
   "metadata": {},
   "outputs": [
    {
     "data": {
      "text/plain": [
       "array([[-0.77244139,  0.3607576 , -2.38110133,  0.08757   ],\n",
       "       [ 1.14946035,  0.62254594,  0.37302939,  0.45965795],\n",
       "       [-1.90879217, -1.1602627 , -0.27364545, -0.82766028],\n",
       "       [-0.77694695,  0.31434299, -2.26231851,  0.06339125],\n",
       "       [-1.17047054,  0.02212382, -2.17376797, -0.13421976],\n",
       "       [ 0.79010037,  0.68530624, -0.44740487,  0.44692959],\n",
       "       [ 1.68616989,  1.6329131 , -1.42072654,  1.04050557],\n",
       "       [-0.93912893, -1.02270838,  1.10093827, -0.63714432]])"
      ]
     },
     "execution_count": 34,
     "metadata": {},
     "output_type": "execute_result"
    }
   ],
   "source": [
    "from sklearn.datasets import make_classification\n",
    "X, y = make_classification(n_samples = 10000, n_features = 4, random_state = 0)\n",
    "X[:8]"
   ]
  },
  {
   "cell_type": "code",
   "execution_count": 35,
   "id": "b4061897",
   "metadata": {},
   "outputs": [
    {
     "data": {
      "text/plain": [
       "array([0, 0, 1, 0, 0, 0, 0, 1])"
      ]
     },
     "execution_count": 35,
     "metadata": {},
     "output_type": "execute_result"
    }
   ],
   "source": [
    "y[:8]"
   ]
  },
  {
   "cell_type": "markdown",
   "id": "ba8d231e",
   "metadata": {},
   "source": [
    "## Task 2 - Fit a SupportVector Classifier"
   ]
  },
  {
   "cell_type": "code",
   "execution_count": 36,
   "id": "418d3233",
   "metadata": {},
   "outputs": [
    {
     "data": {
      "text/plain": [
       "SVC(random_state=42)"
      ]
     },
     "execution_count": 36,
     "metadata": {},
     "output_type": "execute_result"
    }
   ],
   "source": [
    "from sklearn.svm import SVC\n",
    "estimator = SVC(random_state = 42)\n",
    "estimator.fit(X,y)"
   ]
  },
  {
   "cell_type": "code",
   "execution_count": 37,
   "id": "dea64ecc",
   "metadata": {},
   "outputs": [
    {
     "data": {
      "text/plain": [
       "array([[-0.77244139,  0.3607576 , -2.38110133,  0.08757   ],\n",
       "       [ 1.14946035,  0.62254594,  0.37302939,  0.45965795],\n",
       "       [-0.77694695,  0.31434299, -2.26231851,  0.06339125],\n",
       "       [ 0.79010037,  0.68530624, -0.44740487,  0.44692959],\n",
       "       [ 0.06135861, -0.32391974,  0.99651845, -0.15720499]])"
      ]
     },
     "execution_count": 37,
     "metadata": {},
     "output_type": "execute_result"
    }
   ],
   "source": [
    "estimator.support_vectors_[:5]"
   ]
  },
  {
   "cell_type": "code",
   "execution_count": 38,
   "id": "b3264b96",
   "metadata": {},
   "outputs": [
    {
     "data": {
      "text/plain": [
       "0.905"
      ]
     },
     "execution_count": 38,
     "metadata": {},
     "output_type": "execute_result"
    }
   ],
   "source": [
    "estimator.score(X,y)"
   ]
  },
  {
   "cell_type": "markdown",
   "id": "d850e744",
   "metadata": {},
   "source": [
    "## Task 3 - Setting Hyperparameters"
   ]
  },
  {
   "cell_type": "code",
   "execution_count": 39,
   "id": "9f5d1d5c",
   "metadata": {},
   "outputs": [
    {
     "data": {
      "text/plain": [
       "array([[-0.77244139,  0.3607576 , -2.38110133,  0.08757   ],\n",
       "       [ 1.14946035,  0.62254594,  0.37302939,  0.45965795],\n",
       "       [-0.77694695,  0.31434299, -2.26231851,  0.06339125],\n",
       "       [-1.17047054,  0.02212382, -2.17376797, -0.13421976]])"
      ]
     },
     "execution_count": 39,
     "metadata": {},
     "output_type": "execute_result"
    }
   ],
   "source": [
    "estimator = SVC(C=0.00001, shrinking = False, random_state=0)\n",
    "estimator.fit(X,y)\n",
    "estimator.support_vectors_[:4]"
   ]
  },
  {
   "cell_type": "code",
   "execution_count": 40,
   "id": "440d7728",
   "metadata": {},
   "outputs": [
    {
     "data": {
      "text/plain": [
       "0.5007"
      ]
     },
     "execution_count": 40,
     "metadata": {},
     "output_type": "execute_result"
    }
   ],
   "source": [
    "estimator.score(X,y)"
   ]
  },
  {
   "cell_type": "markdown",
   "id": "d7bb3866",
   "metadata": {},
   "source": [
    "## Task 4 - Applying GridSearchCV on a single cor"
   ]
  },
  {
   "cell_type": "code",
   "execution_count": 41,
   "id": "d9aec5bf",
   "metadata": {},
   "outputs": [],
   "source": [
    "from sklearn.model_selection import GridSearchCV"
   ]
  },
  {
   "cell_type": "code",
   "execution_count": 42,
   "id": "5f73a4e2",
   "metadata": {},
   "outputs": [],
   "source": [
    "estimator = SVC(gamma='auto', probability=True, random_state=42)\n",
    "param_grid = {\n",
    "    'C': [0.001, 10],\n",
    "    'kernel': ['rbf','poly','linear']\n",
    "}"
   ]
  },
  {
   "cell_type": "code",
   "execution_count": 43,
   "id": "eea3fec2",
   "metadata": {},
   "outputs": [],
   "source": [
    "grid_search = GridSearchCV(estimator, param_grid, verbose=2, cv=2)"
   ]
  },
  {
   "cell_type": "code",
   "execution_count": 44,
   "id": "e655430c",
   "metadata": {},
   "outputs": [
    {
     "name": "stdout",
     "output_type": "stream",
     "text": [
      "Fitting 2 folds for each of 6 candidates, totalling 12 fits\n",
      "[CV] END ................................C=0.001, kernel=rbf; total time=  10.6s\n",
      "[CV] END ................................C=0.001, kernel=rbf; total time=  10.5s\n",
      "[CV] END ...............................C=0.001, kernel=poly; total time=   4.2s\n",
      "[CV] END ...............................C=0.001, kernel=poly; total time=   4.3s\n",
      "[CV] END .............................C=0.001, kernel=linear; total time=   3.1s\n",
      "[CV] END .............................C=0.001, kernel=linear; total time=   3.0s\n",
      "[CV] END ...................................C=10, kernel=rbf; total time=   2.7s\n",
      "[CV] END ...................................C=10, kernel=rbf; total time=   2.7s\n",
      "[CV] END ..................................C=10, kernel=poly; total time=   3.0s\n",
      "[CV] END ..................................C=10, kernel=poly; total time=   2.9s\n",
      "[CV] END ................................C=10, kernel=linear; total time=   4.0s\n",
      "[CV] END ................................C=10, kernel=linear; total time=   3.9s\n",
      "CPU times: user 1min 3s, sys: 664 ms, total: 1min 4s\n",
      "Wall time: 1min 3s\n"
     ]
    },
    {
     "data": {
      "text/plain": [
       "GridSearchCV(cv=2,\n",
       "             estimator=SVC(gamma='auto', probability=True, random_state=42),\n",
       "             param_grid={'C': [0.001, 10], 'kernel': ['rbf', 'poly', 'linear']},\n",
       "             verbose=2)"
      ]
     },
     "execution_count": 44,
     "metadata": {},
     "output_type": "execute_result"
    }
   ],
   "source": [
    "%time grid_search.fit(X,y)"
   ]
  },
  {
   "cell_type": "markdown",
   "id": "1246c55c",
   "metadata": {},
   "source": [
    "## Task 5 - Applying GridSearchCV on multi-cores (native Scikit parallelism using Joblib)"
   ]
  },
  {
   "cell_type": "code",
   "execution_count": 45,
   "id": "d0b37cdb",
   "metadata": {},
   "outputs": [
    {
     "name": "stdout",
     "output_type": "stream",
     "text": [
      "Number of CPUs in the system: 8\n"
     ]
    }
   ],
   "source": [
    "import os\n",
    "n_cpu = os.cpu_count()\n",
    "print(\"Number of CPUs in the system:\", n_cpu)"
   ]
  },
  {
   "cell_type": "code",
   "execution_count": 46,
   "id": "ef90d5d0",
   "metadata": {},
   "outputs": [],
   "source": [
    "grid_search_MC = GridSearchCV(estimator, \n",
    "                              param_grid,\n",
    "                              verbose=2,\n",
    "                              cv=2,\n",
    "                              n_jobs=-1)"
   ]
  },
  {
   "cell_type": "code",
   "execution_count": 47,
   "id": "a95a7a62",
   "metadata": {},
   "outputs": [
    {
     "name": "stdout",
     "output_type": "stream",
     "text": [
      "Fitting 2 folds for each of 6 candidates, totalling 12 fits\n",
      "CPU times: user 9.28 s, sys: 471 ms, total: 9.75 s\n",
      "Wall time: 25.5 s\n"
     ]
    },
    {
     "data": {
      "text/plain": [
       "GridSearchCV(cv=2,\n",
       "             estimator=SVC(gamma='auto', probability=True, random_state=42),\n",
       "             n_jobs=-1,\n",
       "             param_grid={'C': [0.001, 10], 'kernel': ['rbf', 'poly', 'linear']},\n",
       "             verbose=2)"
      ]
     },
     "execution_count": 47,
     "metadata": {},
     "output_type": "execute_result"
    }
   ],
   "source": [
    "%time grid_search_MC.fit(X,y)"
   ]
  },
  {
   "cell_type": "code",
   "execution_count": 48,
   "id": "1782709c",
   "metadata": {},
   "outputs": [
    {
     "data": {
      "text/plain": [
       "({'C': 10, 'kernel': 'rbf'}, 0.9086000000000001)"
      ]
     },
     "execution_count": 48,
     "metadata": {},
     "output_type": "execute_result"
    }
   ],
   "source": [
    "grid_search_MC.best_params_,grid_search_MC.best_score_"
   ]
  },
  {
   "cell_type": "markdown",
   "id": "343b1c1a",
   "metadata": {},
   "source": [
    "## Task 6 - Parallelism with Dask (can use single or multi-machine)"
   ]
  },
  {
   "cell_type": "code",
   "execution_count": 49,
   "id": "c29a973d",
   "metadata": {},
   "outputs": [],
   "source": [
    "import joblib"
   ]
  },
  {
   "cell_type": "code",
   "execution_count": 50,
   "id": "0329c68e",
   "metadata": {},
   "outputs": [],
   "source": [
    "param_grid = {\n",
    "    'C': [0.001, 0.1, 1.0, 2.5, 5., 10.0, 100., 500., 1000.],\n",
    "    # 'kernel': ['rbf', 'poly', 'linear'],\n",
    "    # 'shrinking': [True, False],\n",
    "}"
   ]
  },
  {
   "cell_type": "code",
   "execution_count": 51,
   "id": "f2f9bdbf",
   "metadata": {},
   "outputs": [],
   "source": [
    "grid_search_Dist = GridSearchCV(estimator,\n",
    "                                param_grid,\n",
    "                                verbose=2,\n",
    "                                cv=5,\n",
    "                                n_jobs=-1)"
   ]
  },
  {
   "cell_type": "code",
   "execution_count": 52,
   "id": "03088379",
   "metadata": {},
   "outputs": [
    {
     "name": "stdout",
     "output_type": "stream",
     "text": [
      "Fitting 5 folds for each of 9 candidates, totalling 45 fits\n",
      "CPU times: user 17.5 s, sys: 1.13 s, total: 18.7 s\n",
      "Wall time: 1min 35s\n"
     ]
    }
   ],
   "source": [
    "%%time \n",
    "\n",
    "with joblib.parallel_backend(\"dask\"):\n",
    "    grid_search_Dist.fit(X,y)"
   ]
  },
  {
   "cell_type": "code",
   "execution_count": 53,
   "id": "2605d816",
   "metadata": {},
   "outputs": [
    {
     "data": {
      "text/html": [
       "<div>\n",
       "<style scoped>\n",
       "    .dataframe tbody tr th:only-of-type {\n",
       "        vertical-align: middle;\n",
       "    }\n",
       "\n",
       "    .dataframe tbody tr th {\n",
       "        vertical-align: top;\n",
       "    }\n",
       "\n",
       "    .dataframe thead th {\n",
       "        text-align: right;\n",
       "    }\n",
       "</style>\n",
       "<table border=\"1\" class=\"dataframe\">\n",
       "  <thead>\n",
       "    <tr style=\"text-align: right;\">\n",
       "      <th></th>\n",
       "      <th>mean_fit_time</th>\n",
       "      <th>std_fit_time</th>\n",
       "      <th>mean_score_time</th>\n",
       "      <th>std_score_time</th>\n",
       "      <th>param_C</th>\n",
       "      <th>params</th>\n",
       "      <th>split0_test_score</th>\n",
       "      <th>split1_test_score</th>\n",
       "      <th>split2_test_score</th>\n",
       "      <th>split3_test_score</th>\n",
       "      <th>split4_test_score</th>\n",
       "      <th>mean_test_score</th>\n",
       "      <th>std_test_score</th>\n",
       "      <th>rank_test_score</th>\n",
       "    </tr>\n",
       "  </thead>\n",
       "  <tbody>\n",
       "    <tr>\n",
       "      <th>0</th>\n",
       "      <td>32.836085</td>\n",
       "      <td>0.658842</td>\n",
       "      <td>2.490981</td>\n",
       "      <td>0.102436</td>\n",
       "      <td>0.001</td>\n",
       "      <td>{'C': 0.001}</td>\n",
       "      <td>0.8495</td>\n",
       "      <td>0.8210</td>\n",
       "      <td>0.8350</td>\n",
       "      <td>0.8245</td>\n",
       "      <td>0.8320</td>\n",
       "      <td>0.8324</td>\n",
       "      <td>0.009917</td>\n",
       "      <td>9</td>\n",
       "    </tr>\n",
       "    <tr>\n",
       "      <th>1</th>\n",
       "      <td>11.664187</td>\n",
       "      <td>0.263463</td>\n",
       "      <td>0.818404</td>\n",
       "      <td>0.063958</td>\n",
       "      <td>0.1</td>\n",
       "      <td>{'C': 0.1}</td>\n",
       "      <td>0.9025</td>\n",
       "      <td>0.8850</td>\n",
       "      <td>0.8815</td>\n",
       "      <td>0.8825</td>\n",
       "      <td>0.8865</td>\n",
       "      <td>0.8876</td>\n",
       "      <td>0.007658</td>\n",
       "      <td>8</td>\n",
       "    </tr>\n",
       "    <tr>\n",
       "      <th>2</th>\n",
       "      <td>9.569353</td>\n",
       "      <td>0.186341</td>\n",
       "      <td>0.702989</td>\n",
       "      <td>0.032272</td>\n",
       "      <td>1.0</td>\n",
       "      <td>{'C': 1.0}</td>\n",
       "      <td>0.9185</td>\n",
       "      <td>0.9065</td>\n",
       "      <td>0.8935</td>\n",
       "      <td>0.8975</td>\n",
       "      <td>0.9110</td>\n",
       "      <td>0.9054</td>\n",
       "      <td>0.009035</td>\n",
       "      <td>7</td>\n",
       "    </tr>\n",
       "    <tr>\n",
       "      <th>3</th>\n",
       "      <td>8.976999</td>\n",
       "      <td>0.290584</td>\n",
       "      <td>0.697321</td>\n",
       "      <td>0.099919</td>\n",
       "      <td>2.5</td>\n",
       "      <td>{'C': 2.5}</td>\n",
       "      <td>0.9200</td>\n",
       "      <td>0.9120</td>\n",
       "      <td>0.8960</td>\n",
       "      <td>0.9005</td>\n",
       "      <td>0.9155</td>\n",
       "      <td>0.9088</td>\n",
       "      <td>0.009092</td>\n",
       "      <td>6</td>\n",
       "    </tr>\n",
       "    <tr>\n",
       "      <th>4</th>\n",
       "      <td>8.816152</td>\n",
       "      <td>0.146823</td>\n",
       "      <td>0.607461</td>\n",
       "      <td>0.045624</td>\n",
       "      <td>5.0</td>\n",
       "      <td>{'C': 5.0}</td>\n",
       "      <td>0.9190</td>\n",
       "      <td>0.9155</td>\n",
       "      <td>0.8995</td>\n",
       "      <td>0.9055</td>\n",
       "      <td>0.9180</td>\n",
       "      <td>0.9115</td>\n",
       "      <td>0.007675</td>\n",
       "      <td>5</td>\n",
       "    </tr>\n",
       "  </tbody>\n",
       "</table>\n",
       "</div>"
      ],
      "text/plain": [
       "   mean_fit_time  std_fit_time  mean_score_time  std_score_time param_C  \\\n",
       "0      32.836085      0.658842         2.490981        0.102436   0.001   \n",
       "1      11.664187      0.263463         0.818404        0.063958     0.1   \n",
       "2       9.569353      0.186341         0.702989        0.032272     1.0   \n",
       "3       8.976999      0.290584         0.697321        0.099919     2.5   \n",
       "4       8.816152      0.146823         0.607461        0.045624     5.0   \n",
       "\n",
       "         params  split0_test_score  split1_test_score  split2_test_score  \\\n",
       "0  {'C': 0.001}             0.8495             0.8210             0.8350   \n",
       "1    {'C': 0.1}             0.9025             0.8850             0.8815   \n",
       "2    {'C': 1.0}             0.9185             0.9065             0.8935   \n",
       "3    {'C': 2.5}             0.9200             0.9120             0.8960   \n",
       "4    {'C': 5.0}             0.9190             0.9155             0.8995   \n",
       "\n",
       "   split3_test_score  split4_test_score  mean_test_score  std_test_score  \\\n",
       "0             0.8245             0.8320           0.8324        0.009917   \n",
       "1             0.8825             0.8865           0.8876        0.007658   \n",
       "2             0.8975             0.9110           0.9054        0.009035   \n",
       "3             0.9005             0.9155           0.9088        0.009092   \n",
       "4             0.9055             0.9180           0.9115        0.007675   \n",
       "\n",
       "   rank_test_score  \n",
       "0                9  \n",
       "1                8  \n",
       "2                7  \n",
       "3                6  \n",
       "4                5  "
      ]
     },
     "execution_count": 53,
     "metadata": {},
     "output_type": "execute_result"
    }
   ],
   "source": [
    "pd.DataFrame(grid_search_Dist.cv_results_).head()"
   ]
  },
  {
   "cell_type": "code",
   "execution_count": 54,
   "id": "a876ac70",
   "metadata": {},
   "outputs": [
    {
     "data": {
      "text/plain": [
       "({'C': 500.0}, 0.914)"
      ]
     },
     "execution_count": 54,
     "metadata": {},
     "output_type": "execute_result"
    }
   ],
   "source": [
    "grid_search_Dist.best_params_, grid_search_Dist.best_score_"
   ]
  },
  {
   "cell_type": "code",
   "execution_count": 55,
   "id": "307fa73f",
   "metadata": {},
   "outputs": [],
   "source": [
    "y_pred = grid_search_Dist.predict(X)"
   ]
  },
  {
   "cell_type": "code",
   "execution_count": 56,
   "id": "85f7d07b",
   "metadata": {},
   "outputs": [
    {
     "name": "stdout",
     "output_type": "stream",
     "text": [
      "              precision    recall  f1-score   support\n",
      "\n",
      "           0       0.96      0.87      0.91      4993\n",
      "           1       0.88      0.96      0.92      5007\n",
      "\n",
      "    accuracy                           0.92     10000\n",
      "   macro avg       0.92      0.92      0.92     10000\n",
      "weighted avg       0.92      0.92      0.92     10000\n",
      "\n"
     ]
    }
   ],
   "source": [
    "from sklearn.metrics import classification_report\n",
    "print(classification_report(y, y_pred))"
   ]
  },
  {
   "cell_type": "markdown",
   "id": "565a3149",
   "metadata": {},
   "source": [
    "## Task 7 - Close the Client"
   ]
  },
  {
   "cell_type": "code",
   "execution_count": 57,
   "id": "17b36ba1",
   "metadata": {},
   "outputs": [
    {
     "name": "stdout",
     "output_type": "stream",
     "text": [
      "[CV] END ..............................................C=1.0; total time=  10.2s\n",
      "[CV] END ..............................................C=2.5; total time=   9.3s\n",
      "[CV] END ..............................................C=0.1; total time=  12.8s\n",
      "[CV] END ............................................C=0.001; total time=  35.1s\n",
      "[CV] END ..............................................C=2.5; total time=   9.3s\n",
      "[CV] END ..............................................C=5.0; total time=   9.5s\n",
      "[CV] END ..............................................C=5.0; total time=   9.3s\n",
      "[CV] END .............................................C=10.0; total time=   8.9s\n",
      "[CV] END .............................................C=10.0; total time=   9.1s\n",
      "[CV] END ............................................C=500.0; total time=  12.4s\n",
      "[CV] END ............................................C=500.0; total time=  12.6s\n",
      "[CV] END ...........................................C=1000.0; total time=  13.5s\n",
      "[CV] END ..............................................C=1.0; total time=  10.3s\n",
      "[CV] END ..............................................C=0.1; total time=  12.3s\n",
      "[CV] END ..............................................C=1.0; total time=  10.0s\n",
      "[CV] END ............................................C=0.001; total time=  35.1s\n",
      "[CV] END ..............................................C=2.5; total time=   9.6s\n",
      "[CV] END .............................................C=10.0; total time=   8.7s\n",
      "[CV] END .............................................C=10.0; total time=   8.9s\n",
      "[CV] END ............................................C=100.0; total time=   9.4s\n",
      "[CV] END ............................................C=100.0; total time=   9.1s\n",
      "[CV] END ............................................C=100.0; total time=   9.6s\n",
      "[CV] END ............................................C=500.0; total time=  12.6s\n",
      "[CV] END ...........................................C=1000.0; total time=  13.9s\n",
      "[CV] END ..............................................C=1.0; total time=  10.4s\n",
      "[CV] END ..............................................C=1.0; total time=  10.5s\n",
      "[CV] END ..............................................C=0.1; total time=  12.8s\n",
      "[CV] END ..............................................C=2.5; total time=  10.1s\n",
      "[CV] END ..............................................C=2.5; total time=  10.1s\n",
      "[CV] END ............................................C=0.001; total time=  36.7s\n",
      "[CV] END ..............................................C=5.0; total time=   9.7s\n",
      "[CV] END ..............................................C=5.0; total time=   9.4s\n",
      "[CV] END .............................................C=10.0; total time=   9.7s\n",
      "[CV] END ............................................C=500.0; total time=  12.5s\n",
      "[CV] END ...........................................C=1000.0; total time=  15.4s\n",
      "[CV] END ...........................................C=1000.0; total time=  12.1s\n",
      "[CV] END ..............................................C=0.1; total time=  12.4s\n",
      "[CV] END ..............................................C=0.1; total time=  12.0s\n",
      "[CV] END ............................................C=0.001; total time=  35.3s\n",
      "[CV] END ..............................................C=5.0; total time=   9.3s\n",
      "[CV] END ............................................C=100.0; total time=  10.0s\n",
      "[CV] END ............................................C=0.001; total time=  34.4s\n",
      "[CV] END ............................................C=100.0; total time=   9.3s\n",
      "[CV] END ............................................C=500.0; total time=  12.6s\n",
      "[CV] END ...........................................C=1000.0; total time=  14.0s\n"
     ]
    },
    {
     "name": "stderr",
     "output_type": "stream",
     "text": [
      "distributed.client - ERROR - Failed to reconnect to scheduler after 30.00 seconds, closing client\n"
     ]
    },
    {
     "name": "stdout",
     "output_type": "stream",
     "text": [
      "[CV] END ...............................C=0.001, kernel=poly; total time=   6.5s\n",
      "[CV] END ...............................C=0.001, kernel=poly; total time=   7.2s\n",
      "[CV] END ...................................C=10, kernel=rbf; total time=   4.7s\n",
      "[CV] END ..................................C=10, kernel=poly; total time=   4.2s\n",
      "[CV] END ...................................C=10, kernel=rbf; total time=   4.4s\n",
      "[CV] END ..................................C=10, kernel=poly; total time=   4.5s\n",
      "[CV] END .............................C=0.001, kernel=linear; total time=   4.7s\n",
      "[CV] END ................................C=10, kernel=linear; total time=   4.9s\n",
      "[CV] END .............................C=0.001, kernel=linear; total time=   4.7s\n",
      "[CV] END ................................C=10, kernel=linear; total time=   5.2s\n",
      "[CV] END ................................C=0.001, kernel=rbf; total time=  13.5s\n",
      "[CV] END ................................C=0.001, kernel=rbf; total time=  13.7s\n"
     ]
    }
   ],
   "source": [
    "client.shutdown()"
   ]
  }
 ],
 "metadata": {
  "kernelspec": {
   "display_name": "Python 3 (ipykernel)",
   "language": "python",
   "name": "python3"
  },
  "language_info": {
   "codemirror_mode": {
    "name": "ipython",
    "version": 3
   },
   "file_extension": ".py",
   "mimetype": "text/x-python",
   "name": "python",
   "nbconvert_exporter": "python",
   "pygments_lexer": "ipython3",
   "version": "3.9.12"
  }
 },
 "nbformat": 4,
 "nbformat_minor": 5
}
